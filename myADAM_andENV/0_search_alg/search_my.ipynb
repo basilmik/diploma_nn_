{
 "cells": [
  {
   "cell_type": "code",
   "execution_count": 1,
   "id": "cbcda14d-4306-4bc0-9065-b9ea88fb3f71",
   "metadata": {},
   "outputs": [],
   "source": [
    "import numpy as np\n",
    "import matplotlib.pyplot as plt\n",
    "import random"
   ]
  },
  {
   "cell_type": "code",
   "execution_count": 2,
   "id": "3d607bf1-02a2-40f7-82ca-6c822e9d2ae3",
   "metadata": {},
   "outputs": [],
   "source": [
    "def coin_flip():\n",
    "    return 100*random.random() "
   ]
  },
  {
   "cell_type": "code",
   "execution_count": 3,
   "id": "52f345a6-5515-4d37-8482-42b668faa9d1",
   "metadata": {},
   "outputs": [],
   "source": [
    "n_models = 2\n",
    "final_shape = np.array([3, 3]) # shape of nn (somehow)\n",
    "shape_step = np.array([1, 0]) # step by layer (maybe flippble?)\n",
    "\n",
    "TSR = 90.0 # target success rate\n",
    "n_tests_per_model = 100\n"
   ]
  },
  {
   "cell_type": "code",
   "execution_count": 4,
   "id": "213c7b00-bb79-42ab-8662-5190f7c6962f",
   "metadata": {},
   "outputs": [],
   "source": [
    "\n",
    "def test(n_tests):\n",
    "    mean = 0\n",
    "    for i in range(n_tests):\n",
    "        mean += coin_flip()\n",
    "    return mean/n_tests"
   ]
  },
  {
   "cell_type": "code",
   "execution_count": 5,
   "id": "351ad0fb-c431-4baa-99b6-9ee05aeeb656",
   "metadata": {},
   "outputs": [],
   "source": [
    "\n",
    "\n",
    "def search(start_shape = 0, shape_steps = np.array([[0, 1],[1, 0],[1, 1]])):\n",
    "    shape = start_shape\n",
    "\n",
    "    model = shape\n",
    "    steps_dif = shape_steps.shape[0]\n",
    "    step_i = 0\n",
    "    safety = 100\n",
    "    idx = 0\n",
    "    while not (np.array_equal(shape, final_shape)):\n",
    "        \n",
    "        for m in range(n_models):\n",
    "            if (idx >= safety):\n",
    "                return False, shape, model\n",
    "            idx+=1\n",
    "            print('model i: ', m)\n",
    "            \n",
    "            model = 0 # new model\n",
    "            # set shape\n",
    "            model = shape\n",
    "            print(model)\n",
    "\n",
    "            # mountaincar.train(policy_dqn, target_dqn, epochs, False)\n",
    "            \n",
    "            # test model\n",
    "            test_res = test(n_tests_per_model)\n",
    "            if (test_res >= TSR):\n",
    "                print('success shape: ', shape)\n",
    "                #return test_res, shape, m\n",
    "        \n",
    "        #shape step\n",
    "        \n",
    "\n",
    "        sh_step = shape_steps[step_i]\n",
    "        step_i += 1\n",
    "        step_i %= steps_dif\n",
    "        shape+=sh_step#shape_step\n",
    "    \n",
    "        \n",
    "    return False, shape, model"
   ]
  },
  {
   "cell_type": "code",
   "execution_count": 6,
   "id": "66c61863-ebc3-4a42-bf07-0fa01c578896",
   "metadata": {
    "scrolled": true
   },
   "outputs": [
    {
     "name": "stdout",
     "output_type": "stream",
     "text": [
      "model i:  0\n",
      "[0 0]\n",
      "model i:  1\n",
      "[0 0]\n",
      "model i:  0\n",
      "[0 1]\n",
      "model i:  1\n",
      "[0 1]\n",
      "model i:  0\n",
      "[1 1]\n",
      "model i:  1\n",
      "[1 1]\n",
      "model i:  0\n",
      "[2 2]\n",
      "model i:  1\n",
      "[2 2]\n",
      "model i:  0\n",
      "[2 3]\n",
      "model i:  1\n",
      "[2 3]\n",
      "False [3 3] [3 3]\n"
     ]
    }
   ],
   "source": [
    "test_res, shape, model = search(start_shape = np.array([0, 0]))\n",
    "print(test_res, shape, model)"
   ]
  }
 ],
 "metadata": {
  "kernelspec": {
   "display_name": "Python 3 (ipykernel)",
   "language": "python",
   "name": "python3"
  },
  "language_info": {
   "codemirror_mode": {
    "name": "ipython",
    "version": 3
   },
   "file_extension": ".py",
   "mimetype": "text/x-python",
   "name": "python",
   "nbconvert_exporter": "python",
   "pygments_lexer": "ipython3",
   "version": "3.9.13"
  }
 },
 "nbformat": 4,
 "nbformat_minor": 5
}
