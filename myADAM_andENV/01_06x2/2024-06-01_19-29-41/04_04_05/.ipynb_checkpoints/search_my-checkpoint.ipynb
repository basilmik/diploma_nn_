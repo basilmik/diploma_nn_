{
 "cells": [
  {
   "cell_type": "code",
   "execution_count": 14,
   "id": "cbcda14d-4306-4bc0-9065-b9ea88fb3f71",
   "metadata": {},
   "outputs": [],
   "source": [
    "import numpy as np\n",
    "import matplotlib.pyplot as plt\n",
    "import random"
   ]
  },
  {
   "cell_type": "code",
   "execution_count": 36,
   "id": "3d607bf1-02a2-40f7-82ca-6c822e9d2ae3",
   "metadata": {},
   "outputs": [],
   "source": [
    "def coin_flip():\n",
    "    return 100*random.random()"
   ]
  },
  {
   "cell_type": "code",
   "execution_count": 35,
   "id": "52f345a6-5515-4d37-8482-42b668faa9d1",
   "metadata": {},
   "outputs": [],
   "source": [
    "n_models = 2\n",
    "final_shape = 3 # shape of nn (somehow)\n",
    "shape_step = 1 # step by layer (maybe flippble?)\n",
    "\n",
    "TSR = 90.0 # target success rate\n",
    "\n"
   ]
  },
  {
   "cell_type": "code",
   "execution_count": 57,
   "id": "351ad0fb-c431-4baa-99b6-9ee05aeeb656",
   "metadata": {},
   "outputs": [],
   "source": [
    "def search(start_shape = 0):\n",
    "    shape = start_shape\n",
    "    while shape != final_shape:\n",
    "        for model in range(n_models):\n",
    "            print('model i: ', model)\n",
    "\n",
    "            \n",
    "            # test model\n",
    "            \n",
    "            test_res = coin_flip()\n",
    "            if (test_res >= TSR):\n",
    "                print('success shape: ', shape)\n",
    "                return test_res, shape, model\n",
    "            \n",
    "        shape+=shape_step\n",
    "    return False, shape, model"
   ]
  },
  {
   "cell_type": "code",
   "execution_count": 58,
   "id": "66c61863-ebc3-4a42-bf07-0fa01c578896",
   "metadata": {},
   "outputs": [
    {
     "name": "stdout",
     "output_type": "stream",
     "text": [
      "model i:  0\n",
      "success shape:  1\n",
      "94.59965578024607 1 0\n"
     ]
    }
   ],
   "source": [
    "test_res, shape, model = search(start_shape = 1)\n",
    "print(test_res, shape, model)"
   ]
  }
 ],
 "metadata": {
  "kernelspec": {
   "display_name": "Python 3 (ipykernel)",
   "language": "python",
   "name": "python3"
  },
  "language_info": {
   "codemirror_mode": {
    "name": "ipython",
    "version": 3
   },
   "file_extension": ".py",
   "mimetype": "text/x-python",
   "name": "python",
   "nbconvert_exporter": "python",
   "pygments_lexer": "ipython3",
   "version": "3.9.13"
  }
 },
 "nbformat": 4,
 "nbformat_minor": 5
}
