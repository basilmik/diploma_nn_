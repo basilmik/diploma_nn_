{
 "cells": [
  {
   "cell_type": "code",
   "execution_count": 3,
   "id": "04e71df1-03b0-4aac-a5b9-431ddd4e4e58",
   "metadata": {
    "scrolled": true
   },
   "outputs": [
    {
     "name": "stdout",
     "output_type": "stream",
     "text": [
      "Defaulting to user installation because normal site-packages is not writeable\n",
      "Requirement already satisfied: gymnasium in c:\\users\\basil\\appdata\\roaming\\python\\python39\\site-packages (0.29.1)\n",
      "Requirement already satisfied: numpy>=1.21.0 in c:\\program files (x86)\\microsoft visual studio\\shared\\python39_64\\lib\\site-packages (from gymnasium) (1.26.1)\n",
      "Requirement already satisfied: cloudpickle>=1.2.0 in c:\\users\\basil\\appdata\\roaming\\python\\python39\\site-packages (from gymnasium) (3.0.0)\n",
      "Requirement already satisfied: typing-extensions>=4.3.0 in c:\\program files (x86)\\microsoft visual studio\\shared\\python39_64\\lib\\site-packages (from gymnasium) (4.8.0)\n",
      "Requirement already satisfied: farama-notifications>=0.0.1 in c:\\users\\basil\\appdata\\roaming\\python\\python39\\site-packages (from gymnasium) (0.0.4)\n",
      "Requirement already satisfied: importlib-metadata>=4.8.0 in c:\\users\\basil\\appdata\\roaming\\python\\python39\\site-packages (from gymnasium) (7.1.0)\n",
      "Requirement already satisfied: zipp>=0.5 in c:\\program files (x86)\\microsoft visual studio\\shared\\python39_64\\lib\\site-packages (from importlib-metadata>=4.8.0->gymnasium) (3.17.0)\n"
     ]
    },
    {
     "name": "stderr",
     "output_type": "stream",
     "text": [
      "WARNING: Ignoring invalid distribution -orch (c:\\users\\basil\\appdata\\roaming\\python\\python39\\site-packages)\n",
      "WARNING: Ignoring invalid distribution -orch (c:\\users\\basil\\appdata\\roaming\\python\\python39\\site-packages)\n",
      "WARNING: Ignoring invalid distribution -orch (c:\\users\\basil\\appdata\\roaming\\python\\python39\\site-packages)\n",
      "WARNING: Ignoring invalid distribution -orch (c:\\users\\basil\\appdata\\roaming\\python\\python39\\site-packages)\n"
     ]
    }
   ],
   "source": [
    "!pip install gymnasium\n"
   ]
  },
  {
   "cell_type": "code",
   "execution_count": null,
   "id": "fad4b8fe-efc9-49c3-852e-d7a0afd40543",
   "metadata": {
    "scrolled": true
   },
   "outputs": [],
   "source": [
    "%%capture\n",
    "import gymnasium as gym\n",
    "import numpy as np\n",
    "\n",
    "\n",
    "import import_ipynb\n",
    "from dqn_5 import DQN\n",
    "from dqn_5 import DQN_search\n",
    "\n",
    "\n",
    "N_TESTS = 5\n",
    "s_res_cnt = 0\n",
    "for i in range(N_TESTS):\n",
    "    search = DQN_search(dqn_model = DQN(game_name = 'MountainCar-v0', mini_batch_size = 64, num_divisions = 50))\n",
    "    atypes = ['', 'ReLU', 'ReLU', 'Linear']\n",
    "    search.set_a_type_array(atypes)\n",
    "    search.set_lr(0.001)\n",
    "    start_net_shape = np.array([2, 2, 2, 3])\n",
    "    shape_steps = np.array([[0, 1, 0, 0], [0, 0, 1, 0]])\n",
    "    final_shape = np.array([2, 4, 4, 3])\n",
    "    n_models = 6\n",
    "    TSR = 95\n",
    "    test_res, shape, good_policy = search.search(n_models, TSR, epochs = 2000, \n",
    "                                                 start_shape = np.array(start_net_shape), \n",
    "                                                 shape_steps = shape_steps,\n",
    "                                                 final_shape = final_shape,\n",
    "                                                 adaptive_n_models = False,\n",
    "                                                 min_best_result = -500\n",
    "                                                )\n",
    "    if (test_res!= False):\n",
    "        s_res_cnt+=1"
   ]
  },
  {
   "cell_type": "code",
   "execution_count": null,
   "id": "89750986-5296-48d8-b815-ecfa0bc6c48f",
   "metadata": {},
   "outputs": [],
   "source": [
    "print 100.0*s_res_cnt/N_TESTS"
   ]
  },
  {
   "cell_type": "code",
   "execution_count": null,
   "id": "cf2bd793-821e-4e92-bf30-a0bc80e2267c",
   "metadata": {},
   "outputs": [],
   "source": [
    "\n",
    "if (test_res!= False):\n",
    "    model_ = DQN(game_name = 'MountainCar-v0', mini_batch_size = 64, num_divisions = 50)\n",
    "    res = model_.test(good_policy, 10, render = True)\n",
    "    print(res)"
   ]
  },
  {
   "cell_type": "code",
   "execution_count": null,
   "id": "57a83b43-8c50-4380-aac4-9b8e8a693674",
   "metadata": {},
   "outputs": [],
   "source": [
    "env = gym.make('MountainCar-v0')"
   ]
  },
  {
   "cell_type": "code",
   "execution_count": null,
   "id": "065856ab-2936-47aa-abfd-7ac17629eda6",
   "metadata": {},
   "outputs": [],
   "source": [
    "obs_space = env.observation_space.shape"
   ]
  },
  {
   "cell_type": "code",
   "execution_count": null,
   "id": "05a8f9f7-1096-4712-9611-84514e46f3e6",
   "metadata": {},
   "outputs": [],
   "source": [
    "obs_space[0]"
   ]
  },
  {
   "cell_type": "code",
   "execution_count": null,
   "id": "0f6dba9b-df9f-42bd-bbb2-1e2b3e14d2bc",
   "metadata": {},
   "outputs": [],
   "source": [
    "env.close()"
   ]
  }
 ],
 "metadata": {
  "kernelspec": {
   "display_name": "Python 3 (ipykernel)",
   "language": "python",
   "name": "python3"
  },
  "language_info": {
   "codemirror_mode": {
    "name": "ipython",
    "version": 3
   },
   "file_extension": ".py",
   "mimetype": "text/x-python",
   "name": "python",
   "nbconvert_exporter": "python",
   "pygments_lexer": "ipython3",
   "version": "3.9.13"
  }
 },
 "nbformat": 4,
 "nbformat_minor": 5
}
