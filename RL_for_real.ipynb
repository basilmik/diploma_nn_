{
 "cells": [
  {
   "cell_type": "markdown",
   "id": "62ebb840-f3cd-4f5b-a00c-06e762f90a3b",
   "metadata": {},
   "source": [
    "# imports"
   ]
  },
  {
   "cell_type": "code",
   "execution_count": 1,
   "id": "0e3a16ff-37e4-487b-9c80-eba5282bc55a",
   "metadata": {
    "scrolled": true
   },
   "outputs": [
    {
     "name": "stdout",
     "output_type": "stream",
     "text": [
      "Defaulting to user installation because normal site-packages is not writeable\n",
      "Requirement already satisfied: gymnasium in c:\\users\\basil\\appdata\\roaming\\python\\python39\\site-packages (0.29.1)\n",
      "Requirement already satisfied: numpy>=1.21.0 in c:\\program files (x86)\\microsoft visual studio\\shared\\python39_64\\lib\\site-packages (from gymnasium) (1.26.1)\n",
      "Requirement already satisfied: cloudpickle>=1.2.0 in c:\\users\\basil\\appdata\\roaming\\python\\python39\\site-packages (from gymnasium) (3.0.0)\n",
      "Requirement already satisfied: typing-extensions>=4.3.0 in c:\\program files (x86)\\microsoft visual studio\\shared\\python39_64\\lib\\site-packages (from gymnasium) (4.8.0)\n",
      "Requirement already satisfied: farama-notifications>=0.0.1 in c:\\users\\basil\\appdata\\roaming\\python\\python39\\site-packages (from gymnasium) (0.0.4)\n",
      "Requirement already satisfied: importlib-metadata>=4.8.0 in c:\\users\\basil\\appdata\\roaming\\python\\python39\\site-packages (from gymnasium) (7.1.0)\n",
      "Requirement already satisfied: zipp>=0.5 in c:\\program files (x86)\\microsoft visual studio\\shared\\python39_64\\lib\\site-packages (from importlib-metadata>=4.8.0->gymnasium) (3.17.0)\n",
      "Defaulting to user installation because normal site-packages is not writeable\n",
      "Requirement already satisfied: gymnasium[classic-control] in c:\\users\\basil\\appdata\\roaming\\python\\python39\\site-packages (0.29.1)\n",
      "Requirement already satisfied: numpy>=1.21.0 in c:\\program files (x86)\\microsoft visual studio\\shared\\python39_64\\lib\\site-packages (from gymnasium[classic-control]) (1.26.1)\n",
      "Requirement already satisfied: cloudpickle>=1.2.0 in c:\\users\\basil\\appdata\\roaming\\python\\python39\\site-packages (from gymnasium[classic-control]) (3.0.0)\n",
      "Requirement already satisfied: typing-extensions>=4.3.0 in c:\\program files (x86)\\microsoft visual studio\\shared\\python39_64\\lib\\site-packages (from gymnasium[classic-control]) (4.8.0)\n",
      "Requirement already satisfied: farama-notifications>=0.0.1 in c:\\users\\basil\\appdata\\roaming\\python\\python39\\site-packages (from gymnasium[classic-control]) (0.0.4)\n",
      "Requirement already satisfied: importlib-metadata>=4.8.0 in c:\\users\\basil\\appdata\\roaming\\python\\python39\\site-packages (from gymnasium[classic-control]) (7.1.0)\n",
      "Requirement already satisfied: pygame>=2.1.3 in c:\\users\\basil\\appdata\\roaming\\python\\python39\\site-packages (from gymnasium[classic-control]) (2.5.2)\n",
      "Requirement already satisfied: zipp>=0.5 in c:\\program files (x86)\\microsoft visual studio\\shared\\python39_64\\lib\\site-packages (from importlib-metadata>=4.8.0->gymnasium[classic-control]) (3.17.0)\n"
     ]
    }
   ],
   "source": [
    "!pip install gymnasium\n",
    "!pip install gymnasium[classic-control]"
   ]
  },
  {
   "cell_type": "code",
   "execution_count": 7,
   "id": "4f44551d-6c82-408e-8a61-c697283fca1e",
   "metadata": {},
   "outputs": [],
   "source": [
    "import numpy as np\n",
    "import random\n",
    "import gymnasium as gym\n",
    "from collections import deque"
   ]
  },
  {
   "cell_type": "markdown",
   "id": "ac21cbce-a7f5-4ac9-844e-e727f25dd6d3",
   "metadata": {},
   "source": [
    "# memory"
   ]
  },
  {
   "cell_type": "code",
   "execution_count": 41,
   "id": "79217bd1-1e66-4ec1-93b3-2347fbcbbec3",
   "metadata": {},
   "outputs": [],
   "source": [
    "def cart_pole_action_to_human(val):\n",
    "    if (val):\n",
    "        return \"right\";\n",
    "    else:\n",
    "        return \"left\";\n",
    "\n",
    "def cart_pole_state_to_human(val):\n",
    "    return \"Cart Position \", val[0], \"Cart Velocity \", val[1], \"Pole Angle \", val[2], \"Pole Angular Velocity \", val[3]\n",
    "\n",
    "\n",
    "\n",
    "class replay_memory:\n",
    "    def __init__(s, maxlen):\n",
    "        s.memory = deque([], maxlen=maxlen)\n",
    "\n",
    "    def append(s, val):\n",
    "        s.memory.append(val)\n",
    "\n",
    "    def get_sample(s, sample_size):\n",
    "        return random.sample(s.memry, sample_size)\n",
    "\n",
    "    def __len__(s):\n",
    "        return len(s.memory)\n",
    "\n",
    "    #cur_state, action, next_state, reward, terminated\n",
    "    def print(s):\n",
    "        for m in s.memory:\n",
    "            print(\"state: \", cart_pole_state_to_human(m[0]))\n",
    "            print(\"action: \", cart_pole_action_to_human(m[1]))\n",
    "            print(\"next state: \", cart_pole_state_to_human(m[2]))\n",
    "            print(\"reward: \", m[3])\n",
    "            print(\"termninated?: \", m[4])\n",
    "            print(\"\\n\")\n"
   ]
  },
  {
   "cell_type": "markdown",
   "id": "b2e9a8d3-8b55-4fe4-885c-da9e77744202",
   "metadata": {},
   "source": [
    "# env run"
   ]
  },
  {
   "cell_type": "code",
   "execution_count": 42,
   "id": "3a470522-2e89-464d-9d5e-5b1746ec1358",
   "metadata": {},
   "outputs": [],
   "source": [
    "\n",
    "def choose_action():\n",
    "     action = env.action_space.sample()  # this is where you would insert your policy\n",
    "\n",
    "\n",
    "env = gym.make('CartPole-v1') #, render_mode=\"human\")\n",
    "\n",
    "memory = replay_memory(10)\n",
    "\n",
    "prev_state, info = env.reset(seed=42)\n",
    "\n",
    "explore_prob = 0.5 # epsilon\n",
    "\n",
    "\n",
    "\n",
    "for _ in range(10):\n",
    "   \n",
    "    state, reward, terminated, truncated, info = env.step(action)\n",
    "\n",
    "    memory.append((prev_state, action, state, reward, terminated)) \n",
    "    \n",
    "    if terminated or truncated:\n",
    "        observation, info = env.reset()\n",
    "    \n",
    "    prev_state = state\n",
    "\n",
    "env.close()"
   ]
  },
  {
   "cell_type": "code",
   "execution_count": null,
   "id": "8a5426f5-9958-4716-91f5-bb8e8b95c7d3",
   "metadata": {},
   "outputs": [],
   "source": []
  }
 ],
 "metadata": {
  "kernelspec": {
   "display_name": "Python 3 (ipykernel)",
   "language": "python",
   "name": "python3"
  },
  "language_info": {
   "codemirror_mode": {
    "name": "ipython",
    "version": 3
   },
   "file_extension": ".py",
   "mimetype": "text/x-python",
   "name": "python",
   "nbconvert_exporter": "python",
   "pygments_lexer": "ipython3",
   "version": "3.9.13"
  }
 },
 "nbformat": 4,
 "nbformat_minor": 5
}
