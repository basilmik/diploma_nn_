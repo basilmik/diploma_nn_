{
 "cells": [
  {
   "cell_type": "markdown",
   "id": "942a2bf9-e390-4c6b-b38f-f7bdf838d744",
   "metadata": {},
   "source": [
    "# imports\n"
   ]
  },
  {
   "cell_type": "code",
   "execution_count": 1,
   "id": "241babd9-316f-4ca6-90a0-b071063b7c94",
   "metadata": {},
   "outputs": [
    {
     "data": {
      "text/plain": [
       "194"
      ]
     },
     "execution_count": 1,
     "metadata": {},
     "output_type": "execute_result"
    }
   ],
   "source": [
    "import gc\n",
    "gc.collect()"
   ]
  },
  {
   "cell_type": "code",
   "execution_count": 2,
   "id": "c08a9eac-93af-45fb-87e1-6d3fdf8ed4b9",
   "metadata": {},
   "outputs": [],
   "source": [
    "import numpy as np\n",
    "from matplotlib import pyplot as plt"
   ]
  },
  {
   "cell_type": "markdown",
   "id": "b6e72cf7-2f3d-4cb8-b596-39d817e723d2",
   "metadata": {},
   "source": [
    "## simple xor data set"
   ]
  },
  {
   "cell_type": "code",
   "execution_count": null,
   "id": "e9ebe7e5-6a21-4cab-afc6-ccc31924a093",
   "metadata": {},
   "outputs": [],
   "source": [
    "import math\n",
    "train_size = 500\n",
    "data_x_offset = 20\n",
    "data_y_offset = 20\n",
    "in_data = [] \n",
    "target_data = []\n",
    "for i in range(train_size):\n",
    "    theta = np.random.random() * 2 * math.pi\n",
    "    radius = np.random.rand() * 0.1\n",
    "    if (i < train_size/4):\n",
    "        in_data.append([0 + radius*math.cos(theta), 0 + radius*math.sin(theta) ])\n",
    "        target_data.append([0])\n",
    "    elif (i < 2*train_size/4):\n",
    "        in_data.append([1 + radius*math.cos(theta), 1 + radius*math.sin(theta) ])\n",
    "        target_data.append([0])\n",
    "    elif(i < 3*train_size/4):\n",
    "        in_data.append([ 1 + radius*math.cos(theta), 0 + radius*math.sin(theta) ])\n",
    "        target_data.append([1])\n",
    "    else:\n",
    "        in_data.append([ 0 + radius*math.cos(theta), 1 + radius*math.sin(theta) ])\n",
    "        target_data.append([1])\n",
    "\n",
    "test_size = round(train_size*0.2)\n",
    "in_test_data = [] \n",
    "target_test_data = []\n",
    "for i in range(test_size):\n",
    "    theta = np.random.random() * 2 * math.pi\n",
    "    radius = np.random.rand() * 0.1\n",
    "    if (i < test_size/4):\n",
    "        in_test_data.append([0 + radius*math.cos(theta), 0 + radius*math.sin(theta) ])\n",
    "        target_test_data.append([0])\n",
    "    elif (i < 2*test_size/4):\n",
    "        in_test_data.append([1 + radius*math.cos(theta), 1 + radius*math.sin(theta) ])\n",
    "        target_test_data.append([0])\n",
    "    elif(i < 3*test_size/4):\n",
    "        in_test_data.append([ 1 + radius*math.cos(theta), 0 + radius*math.sin(theta) ])\n",
    "        target_test_data.append([1])\n",
    "    else:\n",
    "        in_test_data.append([ 0 + radius*math.cos(theta), 1 + radius*math.sin(theta) ])\n",
    "        target_test_data.append([1])\n",
    "\n",
    "plt.figure()\n",
    "plt.scatter(np.array(in_data)[:, 0], np.array(in_data)[:, 1], c = target_data)\n",
    "plt.xlabel('X')\n",
    "plt.ylabel('Y')\n",
    "plt.title(\"training data\")\n",
    "\n",
    "plt.figure()\n",
    "plt.scatter(np.array(in_test_data)[:, 0], np.array(in_test_data)[:, 1], c = target_test_data)\n",
    "plt.xlabel('X')\n",
    "plt.ylabel('Y')\n",
    "plt.title(\"test data\")"
   ]
  },
  {
   "cell_type": "code",
   "execution_count": 3,
   "id": "03d9108c-d3cd-41eb-895b-5303f7766f09",
   "metadata": {
    "scrolled": true
   },
   "outputs": [
    {
     "data": {
      "text/plain": [
       "Text(0.5, 1.0, 'test data')"
      ]
     },
     "execution_count": 3,
     "metadata": {},
     "output_type": "execute_result"
    },
    {
     "data": {
      "image/png": "[encoded data removed]",
      "text/plain": [
       "<Figure size 640x480 with 1 Axes>"
      ]
     },
     "metadata": {},
     "output_type": "display_data"
    },
    {
     "data": {
      "image/png": "[encoded data removed]",
      "text/plain": [
       "<Figure size 640x480 with 1 Axes>"
      ]
     },
     "metadata": {},
     "output_type": "display_data"
    }
   ],
   "source": [
    "# train_size = 1000\n",
    "\n",
    "\n",
    "# in_data = [] \n",
    "# target_data = []\n",
    "# for i in range(train_size):\n",
    "#     if (i < train_size/2):\n",
    "#         if (i < train_size/4):\n",
    "#             in_data.append([0, 0])\n",
    "#         else:\n",
    "#             in_data.append([1,1])\n",
    "#         target_data.append([0])\n",
    "#     else:\n",
    "#         if (i < 3*train_size/4):\n",
    "#             in_data.append([1, 0])\n",
    "#         else:\n",
    "#             in_data.append([0, 1])\n",
    "#         target_data.append([1])\n",
    "\n",
    "\n",
    "# test_size = round(train_size*0.2)\n",
    "# in_test_data = [] \n",
    "# target_test_data = []\n",
    "# for i in range(test_size):\n",
    "#     if (i < test_size/2):\n",
    "#         if (i < test_size/4):\n",
    "#             in_test_data.append([0,0])\n",
    "#         else:\n",
    "#             in_test_data.append([1,1])\n",
    "#         target_test_data.append([0])\n",
    "#     else:\n",
    "#         if (i < 3*test_size/4):\n",
    "#              in_test_data.append([0,1])\n",
    "#         else:\n",
    "#             in_test_data.append([1,0])\n",
    "#         target_test_data.append([1])\n",
    "\n",
    "\n",
    "# plt.figure()\n",
    "# plt.scatter(np.array(in_data)[:, 0], np.array(in_data)[:, 1], c = target_data)\n",
    "# plt.xlabel('X')\n",
    "# plt.ylabel('Y')\n",
    "# plt.title(\"training data\")\n",
    "\n",
    "# plt.figure()\n",
    "# plt.scatter(np.array(in_test_data)[:, 0], np.array(in_test_data)[:, 1], c = target_test_data)\n",
    "# plt.xlabel('X')\n",
    "# plt.ylabel('Y')\n",
    "# plt.title(\"test data\")\n"
   ]
  },
  {
   "cell_type": "markdown",
   "id": "d0c6f8da-6b3c-4c20-baf8-2a7eebf51b5e",
   "metadata": {},
   "source": [
    "## plastic NN\n"
   ]
  },
  {
   "cell_type": "code",
   "execution_count": 4,
   "id": "0b76a4e1-60ca-4a7c-bd84-491aff854de3",
   "metadata": {},
   "outputs": [],
   "source": [
    "def Sigmoid(x):\n",
    "    return 1 / (1 + np.exp(-x))\n",
    "    \n",
    "def ReLU(x):\n",
    "    return max(0,x.all())\n",
    "\n",
    "def d_Sigmoid(x):\n",
    "    return x * (1 - x)\n",
    "    \n",
    "def d_ReLU(x):\n",
    "    if (x) < 0:\n",
    "        return 0\n",
    "    else:\n",
    "        return 1\n",
    "\n",
    "activations_dict = {\n",
    "'Sigmoid': [Sigmoid, d_Sigmoid],\n",
    "'ReLU': [ReLU, d_ReLU],  \n",
    "}\n",
    "\n",
    "class layer:\n",
    "    def __init__(s, lr = 0.1, prev_size = 2, my_size=2, activation_type = \"Sigmoid\"):\n",
    "        s.lr = lr\n",
    "        s.size = my_size\n",
    "        s.prev_size = prev_size\n",
    "        s.weights = np.random.random((prev_size, s.size))\n",
    "        s.funcs = activations_dict.get(activation_type)\n",
    "        s.activation_f = s.funcs[0]\n",
    "        s.d_activation_f = s.funcs[1]\n",
    "\n",
    "\n",
    "    def activate(s, x):\n",
    "        return s.activation_f(x)\n",
    "        \n",
    "    def d_activate(s, x):\n",
    "        return s.d_activation_f(x)  \n",
    "\n",
    "    def forward(s, inputs):\n",
    "        s.input = np.asarray(inputs)\n",
    "        s.neurons = np.dot(s.input, s.weights)\n",
    "        s.neurons_activated = s.activate(s.neurons)\n",
    "        \n",
    "        return s.neurons_activated\n",
    "\n",
    "    def backprop(s, layer_error): # for output here layer_error = target_val - s.forward\n",
    "        s.delta = layer_error * s.d_activate(s.neurons_activated)\n",
    "        \n",
    "        s.prev_layer_error = np.dot(s.delta, s.weights.T)\n",
    "        return s.prev_layer_error\n",
    "        \n",
    "    def update_weights(s):\n",
    "        s.input_t = s.input.T\n",
    "        #print(\"input_t: \", input_t.shape)\n",
    "        #print(\"delta: \", s.delta.shape)\n",
    "        \n",
    "        s.v = s.input_t.reshape((s.input_t.shape[0], 1))\n",
    "        #print(\"v: \", v.shape)\n",
    "\n",
    "        s.d = s.delta.reshape((1, s.delta.shape[0]))\n",
    "        s.weights += s.lr * np.dot(s.v, s.d)\n",
    "        \n",
    "    def print_info(s):\n",
    "        print(\"my size: \", s.size)\n",
    "        print(\"w: \", s.weights, \"\\n\")\n",
    "        \n",
    "    def print_pic(s):\n",
    "        print(\"\\n╻...\\nv...\")\n",
    "        for i in range(s.size):\n",
    "            print('O\\t', end='')\n",
    "        \n",
    "\n",
    "    def add_neuron(s):     \n",
    "        add_w = np.zeros(shape=(s.prev_size, 1), dtype=float) + 0.1\n",
    "        s.weights = np.concatenate((s.weights, add_w.T))\n",
    "        s.size+=1\n",
    "\n",
    "\n"
   ]
  },
  {
   "cell_type": "code",
   "execution_count": 5,
   "id": "236b199e-4f3f-408a-812a-4bcd38839298",
   "metadata": {},
   "outputs": [],
   "source": [
    "\n",
    "class input_layer:\n",
    "    def __init__(s, size):\n",
    "        s.size = size\n",
    "        s.values = np.zeros(shape=(size), dtype = float)\n",
    "\n",
    "    def print_info(s):\n",
    "        print(\"IN LAYER\\nsize: \", s.size)\n",
    "        print(s.values)\n",
    "\n",
    "    def print_pic(s):\n",
    "        for i in range(s.size):\n",
    "            print(\"| |\\t\", end='')\n",
    "        print(\"\")\n",
    "        for i in range(s.size):\n",
    "            print(\" v \\t\", end='')\n",
    "        print(\"\")\n",
    "        for i in range(s.size):\n",
    "            print('@\\t', end='')\n",
    "\n",
    "    def forward(s, x):\n",
    "        return x\n",
    "        \n",
    "        \n",
    "\n",
    "class plastic_nn:\n",
    "    def __init__(s):\n",
    "        s.layers = []\n",
    "        s.n_of_layers = 0\n",
    "        \n",
    "        pass\n",
    "\n",
    "    def forward(s, data):\n",
    "        for lay in layers:\n",
    "            data = lay.forward(data)\n",
    "        s.last_result = data\n",
    "        return s.last_result\n",
    "\n",
    "    def backprop(s, correct):\n",
    "        err = correct-s.last_result\n",
    "\n",
    "        for lay in reversed(layers[1:]):\n",
    "            err = lay.backprop(err)\n",
    "\n",
    "    def update_w(s):\n",
    "        for lay in reversed(layers[1:]):\n",
    "            lay.update_weights()\n",
    "\n",
    "    def learn_one(s, in_data, target_data):\n",
    "        pnn.forward(in_data)\n",
    "\n",
    "        pnn.backprop(target_data)\n",
    "        pnn.update_w()   \n",
    "        \n",
    "    def append_one(s, new_layer, check = False):\n",
    "        if check and s.n_of_layers!=0:\n",
    "            last_layer_size = s.layers[-1].size\n",
    "            if last_layer_size != new_layer.prev_size:\n",
    "                print(\"size not match, layer \", s.n_of_layers)\n",
    "                return\n",
    "        s.layers.append(new_layer)\n",
    "        s.n_of_layers+=1\n",
    "        pass\n",
    "\n",
    "    def check_layers_sizes(s, check_layers):\n",
    "        #print(\"CHECK\")\n",
    "        for i in range(1, len(check_layers)):\n",
    "            #print(i)\n",
    "            #print(\"check_layers[i-1].size \",check_layers[i-1].size)\n",
    "            #print(\"check_layers[i].prev_size \",check_layers[i].prev_size)\n",
    "            if (check_layers[i-1].size != check_layers[i].prev_size):\n",
    "                print(\"error between \", i-1, \"and \", i)\n",
    "                return False\n",
    "        return True\n",
    "        \n",
    "    def append(s, new_layers):\n",
    "        test_layers = np.array([])\n",
    "        if s.n_of_layers != 0:\n",
    "            test_layers = s.layers[-1]\n",
    "            \n",
    "        test_layers = np.append(test_layers, new_layers)\n",
    "                \n",
    "        if (s.check_layers_sizes(test_layers)):\n",
    "            for lay in new_layers:\n",
    "                s.append_one(lay)\n",
    "\n",
    "            print(\"added succesfully\")\n",
    "            return True\n",
    "        else:\n",
    "            print(\"ERROR adding layers, check info above\")\n",
    "            return False\n",
    "\n",
    "    def print_info(s):\n",
    "        print(\"Num of layers: \", s.n_of_layers)\n",
    "        for cnt in range(s.n_of_layers):\n",
    "            print(\"#\", cnt)\n",
    "            s.layers[cnt].print_info()\n",
    "            print(\"\")\n",
    "    \n",
    "    def print_pic(s):\n",
    "        print(\"Num of layers: \", s.n_of_layers)\n",
    "        cnt = 0\n",
    "        for lay in s.layers:\n",
    "            lay.print_pic()\n",
    "            print(\"#\", cnt, end='')\n",
    "            cnt+=1\n",
    "        print(\"\\nOUT |#|\\nOUT  v\")\n",
    "\n"
   ]
  },
  {
   "cell_type": "markdown",
   "id": "0e9f0a36-94f0-4838-ac50-201112d4974a",
   "metadata": {},
   "source": [
    "## create pnn"
   ]
  },
  {
   "cell_type": "code",
   "execution_count": 6,
   "id": "694ff798-b4ac-4b41-9335-810b6e09d33d",
   "metadata": {},
   "outputs": [
    {
     "name": "stdout",
     "output_type": "stream",
     "text": [
      "added succesfully\n"
     ]
    },
    {
     "data": {
      "text/plain": [
       "True"
      ]
     },
     "execution_count": 6,
     "metadata": {},
     "output_type": "execute_result"
    }
   ],
   "source": [
    "np.random.seed(5)\n",
    "in_layer = input_layer(2)\n",
    "tl = layer(lr = 0.01, prev_size = 2, my_size=2)\n",
    "out_layer = layer(lr = 0.01, prev_size = 2, my_size=1)\n",
    "\n",
    "pnn = plastic_nn()\n",
    "layers = [in_layer, tl, out_layer]\n",
    "\n",
    "pnn.append(layers)\n"
   ]
  },
  {
   "cell_type": "markdown",
   "id": "b2344e6b-b3df-43da-b8d3-4eeef7d189b7",
   "metadata": {},
   "source": [
    "## train and test\n",
    "\n",
    "to note:\n",
    "\n",
    "epochs 1000, lr 0.01, rand seed 4\n",
    "\n",
    "epochs 2000, lr 0.1, rand seed 2"
   ]
  },
  {
   "cell_type": "code",
   "execution_count": 7,
   "id": "a7a4aadd-c479-48e8-9fa6-a437029e82a8",
   "metadata": {},
   "outputs": [
    {
     "name": "stdout",
     "output_type": "stream",
     "text": [
      "[ ------------------------------------------------- *  ]\r"
     ]
    },
    {
     "data": {
      "text/plain": [
       "Text(0, 0.5, 'error')"
      ]
     },
     "execution_count": 7,
     "metadata": {},
     "output_type": "execute_result"
    },
    {
     "data": {
      "image/png": "[encoded data removed]",
      "text/plain": [
       "<Figure size 640x480 with 1 Axes>"
      ]
     },
     "metadata": {},
     "output_type": "display_data"
    }
   ],
   "source": [
    "# to_display_bar = True\n",
    "\n",
    "# graph_err = []\n",
    "# graph_epoch=[]\n",
    "# epochs = 1000\n",
    "# target_data = np.array(target_data)\n",
    "# #print(target_data)\n",
    "\n",
    "# bar_len = 50\n",
    "\n",
    "# def display_bar(bar_len, idx, total):\n",
    "#     idx = int(idx*bar_len/total)\n",
    "#     #print(perc)\n",
    "#     print(\"[\", \"-\"*idx, \"*\", \"-\"*(bar_len-idx-1), \"]\",end='')\n",
    "#     print(\"\\r\",end='')\n",
    "\n",
    "# for i in range(epochs):\n",
    "#     if to_display_bar:\n",
    "\n",
    "#         display_bar(bar_len, i, epochs)\n",
    "\n",
    "    \n",
    "#     for idx in range(len(in_data)):\n",
    "#         pnn.learn_one(in_data[idx],target_data[idx])\n",
    "\n",
    "\n",
    "\n",
    "#     error_sum = 0\n",
    "#     for idx in range(len(in_test_data)):\n",
    "#         valid_res = pnn.forward(in_test_data[idx])\n",
    "#         error = (target_test_data[idx] - (valid_res))**2\n",
    "#         error_sum+=error\n",
    "    \n",
    "#     graph_err.append(error_sum/len(in_test_data))\n",
    "#     graph_epoch.append(i)\n",
    "\n",
    "\n",
    "\n",
    "# #print(\"graph_epoch \", graph_epoch)\n",
    "# #print(\"(graph_err)\", graph_err)\n",
    "# plt.figure()\n",
    "# plt.scatter(graph_epoch, graph_err)\n",
    "# plt.xlabel('epoch')\n",
    "# plt.ylabel('error')\n",
    "\n",
    "\n",
    "    "
   ]
  },
  {
   "cell_type": "code",
   "execution_count": 8,
   "id": "ff6138d4-c722-41aa-a0e8-7894e7793f77",
   "metadata": {},
   "outputs": [
    {
     "name": "stdout",
     "output_type": "stream",
     "text": [
      "[0.09840416]\n",
      "[0.89728338]\n",
      "[0.9041974]\n",
      "[0.34587921]\n",
      "Num of layers:  3\n",
      "# 0\n",
      "IN LAYER\n",
      "size:  2\n",
      "[0. 0.]\n",
      "\n",
      "# 1\n",
      "my size:  2\n",
      "w:  [[0.73884093 6.66425053]\n",
      " [0.75650851 6.78978598]] \n",
      "\n",
      "\n",
      "# 2\n",
      "my size:  1\n",
      "w:  [[-20.71310717]\n",
      " [ 16.28294053]] \n",
      "\n",
      "\n"
     ]
    }
   ],
   "source": [
    "# test_2_in = [[0,0], [0,1], [1, 0], [1,1]]\n",
    "# for i in range(4):\n",
    "#     print(pnn.forward(test_2_in[i]))\n",
    "\n",
    "# pnn.print_info()"
   ]
  },
  {
   "cell_type": "markdown",
   "id": "bed04fbb-9240-4d26-9829-d1767c6585db",
   "metadata": {
    "jp-MarkdownHeadingCollapsed": true
   },
   "source": [
    "# RL test\n",
    "\n"
   ]
  },
  {
   "cell_type": "code",
   "execution_count": 29,
   "id": "f5c0df2e-3c30-4ef5-ac03-3fad1521047d",
   "metadata": {},
   "outputs": [
    {
     "name": "stdout",
     "output_type": "stream",
     "text": [
      "Collecting gym_super_mario_bros==7.4.0\n",
      "  Using cached gym_super_mario_bros-7.4.0-py3-none-any.whl.metadata (10 kB)\n",
      "Requirement already satisfied: nes_py in c:\\users\\basil\\appdata\\roaming\\jupyterlab-desktop\\envs\\jup_playground\\lib\\site-packages (8.2.1)\n",
      "Requirement already satisfied: gym>=0.17.2 in c:\\users\\basil\\appdata\\roaming\\jupyterlab-desktop\\envs\\jup_playground\\lib\\site-packages (from nes_py) (0.25.0)\n",
      "Requirement already satisfied: numpy>=1.18.5 in c:\\users\\basil\\appdata\\roaming\\jupyterlab-desktop\\envs\\jup_playground\\lib\\site-packages (from nes_py) (1.26.4)\n",
      "Requirement already satisfied: pyglet<=1.5.21,>=1.4.0 in c:\\users\\basil\\appdata\\roaming\\jupyterlab-desktop\\envs\\jup_playground\\lib\\site-packages (from nes_py) (1.5.21)\n",
      "Requirement already satisfied: tqdm>=4.48.2 in c:\\users\\basil\\appdata\\roaming\\jupyterlab-desktop\\envs\\jup_playground\\lib\\site-packages (from nes_py) (4.66.2)\n",
      "Requirement already satisfied: cloudpickle>=1.2.0 in c:\\users\\basil\\appdata\\roaming\\jupyterlab-desktop\\envs\\jup_playground\\lib\\site-packages (from gym>=0.17.2->nes_py) (3.0.0)\n",
      "Requirement already satisfied: gym-notices>=0.0.4 in c:\\users\\basil\\appdata\\roaming\\jupyterlab-desktop\\envs\\jup_playground\\lib\\site-packages (from gym>=0.17.2->nes_py) (0.0.8)\n",
      "Requirement already satisfied: colorama in c:\\users\\basil\\appdata\\roaming\\jupyterlab-desktop\\envs\\jup_playground\\lib\\site-packages (from tqdm>=4.48.2->nes_py) (0.4.6)\n",
      "Using cached gym_super_mario_bros-7.4.0-py3-none-any.whl (199 kB)\n",
      "Installing collected packages: gym_super_mario_bros\n",
      "  Attempting uninstall: gym_super_mario_bros\n",
      "    Found existing installation: gym-super-mario-bros 7.3.0\n",
      "    Uninstalling gym-super-mario-bros-7.3.0:\n",
      "      Successfully uninstalled gym-super-mario-bros-7.3.0\n",
      "Successfully installed gym_super_mario_bros-7.4.0\n"
     ]
    }
   ],
   "source": [
    "# !pip install gym_super_mario_bros==7.4.0 nes_py"
   ]
  },
  {
   "cell_type": "code",
   "execution_count": 30,
   "id": "77c55f59-11d0-4e51-8242-a743ed0524fc",
   "metadata": {},
   "outputs": [],
   "source": [
    "# # Import the game\n",
    "# import gym_super_mario_bros\n",
    "# import gym\n",
    "\n",
    "# from nes_py.wrappers import JoypadSpace\n",
    "\n",
    "\n",
    "# from gym_super_mario_bros.actions import RIGHT_ONLY\n",
    "\n",
    "# from gym_super_mario_bros.actions import SIMPLE_MOVEMENT"
   ]
  },
  {
   "cell_type": "code",
   "execution_count": 31,
   "id": "e4a1bd82-b2a1-40a1-8e54-dedce77f7bf8",
   "metadata": {},
   "outputs": [
    {
     "name": "stdout",
     "output_type": "stream",
     "text": [
      "<0.26\n"
     ]
    },
    {
     "name": "stderr",
     "output_type": "stream",
     "text": [
      "C:\\Users\\basil\\AppData\\Roaming\\jupyterlab-desktop\\envs\\jup_playground\\Lib\\site-packages\\gym\\envs\\registration.py:592: UserWarning: \u001b[33mWARN: The environment SuperMarioBros-1-1-v0 is out of date. You should consider upgrading to version `v3`.\u001b[0m\n",
      "  logger.warn(\n"
     ]
    },
    {
     "ename": "KeyError",
     "evalue": "'render_modes'",
     "output_type": "error",
     "traceback": [
      "\u001b[1;31m---------------------------------------------------------------------------\u001b[0m",
      "\u001b[1;31mKeyError\u001b[0m                                  Traceback (most recent call last)",
      "Cell \u001b[1;32mIn[31], line 5\u001b[0m\n\u001b[0;32m      3\u001b[0m \u001b[38;5;28;01mif\u001b[39;00m gym\u001b[38;5;241m.\u001b[39m__version__ \u001b[38;5;241m<\u001b[39m \u001b[38;5;124m'\u001b[39m\u001b[38;5;124m0.26\u001b[39m\u001b[38;5;124m'\u001b[39m:\n\u001b[0;32m      4\u001b[0m     \u001b[38;5;28mprint\u001b[39m(\u001b[38;5;124m\"\u001b[39m\u001b[38;5;124m<0.26\u001b[39m\u001b[38;5;124m\"\u001b[39m)\n\u001b[1;32m----> 5\u001b[0m     env \u001b[38;5;241m=\u001b[39m \u001b[43mgym_super_mario_bros\u001b[49m\u001b[38;5;241;43m.\u001b[39;49m\u001b[43mmake\u001b[49m\u001b[43m(\u001b[49m\u001b[43mENV_NAME\u001b[49m\u001b[43m,\u001b[49m\u001b[43m \u001b[49m\u001b[43mrender_mode\u001b[49m\u001b[38;5;241;43m=\u001b[39;49m\u001b[38;5;124;43m'\u001b[39;49m\u001b[38;5;124;43mhuman\u001b[39;49m\u001b[38;5;124;43m'\u001b[39;49m\u001b[43m,\u001b[49m\u001b[43m \u001b[49m\u001b[43mnew_step_api\u001b[49m\u001b[38;5;241;43m=\u001b[39;49m\u001b[38;5;28;43;01mTrue\u001b[39;49;00m\u001b[43m)\u001b[49m\n\u001b[0;32m      6\u001b[0m \u001b[38;5;28;01melse\u001b[39;00m:\n\u001b[0;32m      7\u001b[0m     \u001b[38;5;28mprint\u001b[39m(\u001b[38;5;124m\"\u001b[39m\u001b[38;5;124m>=0.26\u001b[39m\u001b[38;5;124m\"\u001b[39m)\n",
      "File \u001b[1;32m~\\AppData\\Roaming\\jupyterlab-desktop\\envs\\jup_playground\\Lib\\site-packages\\gym\\envs\\registration.py:625\u001b[0m, in \u001b[0;36mmake\u001b[1;34m(id, max_episode_steps, autoreset, new_step_api, disable_env_checker, **kwargs)\u001b[0m\n\u001b[0;32m    623\u001b[0m \u001b[38;5;66;03m# If we have access to metadata we check that \"render_mode\" is valid\u001b[39;00m\n\u001b[0;32m    624\u001b[0m \u001b[38;5;28;01mif\u001b[39;00m \u001b[38;5;28mhasattr\u001b[39m(env_creator, \u001b[38;5;124m\"\u001b[39m\u001b[38;5;124mmetadata\u001b[39m\u001b[38;5;124m\"\u001b[39m):\n\u001b[1;32m--> 625\u001b[0m     render_modes \u001b[38;5;241m=\u001b[39m \u001b[43menv_creator\u001b[49m\u001b[38;5;241;43m.\u001b[39;49m\u001b[43mmetadata\u001b[49m\u001b[43m[\u001b[49m\u001b[38;5;124;43m\"\u001b[39;49m\u001b[38;5;124;43mrender_modes\u001b[39;49m\u001b[38;5;124;43m\"\u001b[39;49m\u001b[43m]\u001b[49m\n\u001b[0;32m    627\u001b[0m     \u001b[38;5;66;03m# We might be able to fall back to the HumanRendering wrapper if 'human' rendering is not supported natively\u001b[39;00m\n\u001b[0;32m    628\u001b[0m     \u001b[38;5;28;01mif\u001b[39;00m (\n\u001b[0;32m    629\u001b[0m         mode \u001b[38;5;241m==\u001b[39m \u001b[38;5;124m\"\u001b[39m\u001b[38;5;124mhuman\u001b[39m\u001b[38;5;124m\"\u001b[39m\n\u001b[0;32m    630\u001b[0m         \u001b[38;5;129;01mand\u001b[39;00m \u001b[38;5;124m\"\u001b[39m\u001b[38;5;124mhuman\u001b[39m\u001b[38;5;124m\"\u001b[39m \u001b[38;5;129;01mnot\u001b[39;00m \u001b[38;5;129;01min\u001b[39;00m render_modes\n\u001b[0;32m    631\u001b[0m         \u001b[38;5;129;01mand\u001b[39;00m (\u001b[38;5;124m\"\u001b[39m\u001b[38;5;124msingle_rgb_array\u001b[39m\u001b[38;5;124m\"\u001b[39m \u001b[38;5;129;01min\u001b[39;00m render_modes \u001b[38;5;129;01mor\u001b[39;00m \u001b[38;5;124m\"\u001b[39m\u001b[38;5;124mrgb_array\u001b[39m\u001b[38;5;124m\"\u001b[39m \u001b[38;5;129;01min\u001b[39;00m render_modes)\n\u001b[0;32m    632\u001b[0m     ):\n",
      "\u001b[1;31mKeyError\u001b[0m: 'render_modes'"
     ]
    }
   ],
   "source": [
    "\n",
    "# ENV_NAME = 'SuperMarioBros-1-1-v0'\n",
    "\n",
    "# if gym.__version__ < '0.26':\n",
    "#     print(\"<0.26\")\n",
    "#     env = gym_super_mario_bros.make(ENV_NAME, render_mode='human', new_step_api=True)\n",
    "# else:\n",
    "#     print(\">=0.26\")\n",
    "#     env = gym_super_mario_bros.make(ENV_NAME, render_mode='human', apply_api_compatibility=True)\n",
    "# env = JoypadSpace(env, RIGHT_ONLY) #SIMPLE_MOVEMENT\n",
    "\n",
    "# done = False\n",
    "# env.reset()\n",
    "# counter = 0\n",
    "# while not done and counter < 100000:\n",
    "#     # Only go right\n",
    "#     # action = RIGHT_ONLY.index(['right'])\n",
    "    \n",
    "#     # Choose random action\n",
    "#     action = env.action_space.sample()\n",
    "\n",
    "#     _, _, done, _, _ = env.step(action)\n",
    "#     env.render()\n",
    "#     counter+=1\n",
    "# env.close()"
   ]
  },
  {
   "cell_type": "markdown",
   "id": "94ec4bd7-58f5-4105-81c0-98b193e88d31",
   "metadata": {},
   "source": [
    "# RL test cartpole"
   ]
  },
  {
   "cell_type": "code",
   "execution_count": 23,
   "id": "8de16d3a-24ce-4a82-a075-e7f585a66e03",
   "metadata": {},
   "outputs": [
    {
     "name": "stdout",
     "output_type": "stream",
     "text": [
      "Requirement already satisfied: gymnasium in c:\\users\\basil\\appdata\\roaming\\jupyterlab-desktop\\envs\\jup_playground\\lib\\site-packages (0.29.1)\n",
      "Requirement already satisfied: numpy>=1.21.0 in c:\\users\\basil\\appdata\\roaming\\jupyterlab-desktop\\envs\\jup_playground\\lib\\site-packages (from gymnasium) (1.26.4)\n",
      "Requirement already satisfied: cloudpickle>=1.2.0 in c:\\users\\basil\\appdata\\roaming\\jupyterlab-desktop\\envs\\jup_playground\\lib\\site-packages (from gymnasium) (3.0.0)\n",
      "Requirement already satisfied: typing-extensions>=4.3.0 in c:\\users\\basil\\appdata\\roaming\\jupyterlab-desktop\\envs\\jup_playground\\lib\\site-packages (from gymnasium) (4.11.0)\n",
      "Requirement already satisfied: farama-notifications>=0.0.1 in c:\\users\\basil\\appdata\\roaming\\jupyterlab-desktop\\envs\\jup_playground\\lib\\site-packages (from gymnasium) (0.0.4)\n",
      "Requirement already satisfied: gymnasium[classic-control] in c:\\users\\basil\\appdata\\roaming\\jupyterlab-desktop\\envs\\jup_playground\\lib\\site-packages (0.29.1)\n",
      "Requirement already satisfied: numpy>=1.21.0 in c:\\users\\basil\\appdata\\roaming\\jupyterlab-desktop\\envs\\jup_playground\\lib\\site-packages (from gymnasium[classic-control]) (1.26.4)\n",
      "Requirement already satisfied: cloudpickle>=1.2.0 in c:\\users\\basil\\appdata\\roaming\\jupyterlab-desktop\\envs\\jup_playground\\lib\\site-packages (from gymnasium[classic-control]) (3.0.0)\n",
      "Requirement already satisfied: typing-extensions>=4.3.0 in c:\\users\\basil\\appdata\\roaming\\jupyterlab-desktop\\envs\\jup_playground\\lib\\site-packages (from gymnasium[classic-control]) (4.11.0)\n",
      "Requirement already satisfied: farama-notifications>=0.0.1 in c:\\users\\basil\\appdata\\roaming\\jupyterlab-desktop\\envs\\jup_playground\\lib\\site-packages (from gymnasium[classic-control]) (0.0.4)\n",
      "Requirement already satisfied: pygame>=2.1.3 in c:\\users\\basil\\appdata\\roaming\\jupyterlab-desktop\\envs\\jup_playground\\lib\\site-packages (from gymnasium[classic-control]) (2.5.2)\n"
     ]
    }
   ],
   "source": [
    "# !pip install gymnasium\n",
    "# !pip install gymnasium[classic-control]"
   ]
  },
  {
   "cell_type": "code",
   "execution_count": 13,
   "id": "71088396-e723-47a4-8fb5-ffccb20d46ca",
   "metadata": {},
   "outputs": [],
   "source": [
    "# !pip install -q swig"
   ]
  },
  {
   "cell_type": "code",
   "execution_count": 14,
   "id": "b6a0fc25-e569-4d48-9a45-b31b0d6fafa3",
   "metadata": {
    "editable": true,
    "scrolled": true,
    "slideshow": {
     "slide_type": ""
    },
    "tags": []
   },
   "outputs": [],
   "source": [
    "#!pip install gymnasium[box2d]"
   ]
  },
  {
   "cell_type": "code",
   "execution_count": 24,
   "id": "78393b57-b269-4da1-b651-dbb60cbd5dab",
   "metadata": {},
   "outputs": [],
   "source": [
    "# import gymnasium as gym\n",
    "#"
   ]
  },
  {
   "cell_type": "code",
   "execution_count": 21,
   "id": "72aafe7e-dad5-4ba0-a59d-222cda97b614",
   "metadata": {},
   "outputs": [
    {
     "name": "stdout",
     "output_type": "stream",
     "text": [
      "Discrete(2)\n"
     ]
    }
   ],
   "source": [
    "\n",
    "\n"
   ]
  },
  {
   "cell_type": "code",
   "execution_count": 27,
   "id": "4c6a0a29-c1d9-474f-8a59-0526bbe35ace",
   "metadata": {},
   "outputs": [
    {
     "name": "stdout",
     "output_type": "stream",
     "text": [
      "Discrete(2)\n"
     ]
    }
   ],
   "source": [
    "# env = gym.make('CartPole-v1', render_mode=\"human\")\n",
    "# print(env.action_space) # 0 or 1\n",
    "\n",
    "# observation, info = env.reset(seed=42)\n",
    "# for _ in range(100):\n",
    "#    action = env.action_space.sample()  # this is where you would insert your policy\n",
    "#    observation, reward, terminated, truncated, info = env.step(action)\n",
    "\n",
    "#    #if terminated:# or truncated:\n",
    "#       #observation, info = env.reset()\n",
    "\n",
    "# env.close()"
   ]
  },
  {
   "cell_type": "code",
   "execution_count": 22,
   "id": "cd2d2225-f0dd-4213-bf8a-12da1f206101",
   "metadata": {},
   "outputs": [],
   "source": [
    "# env.close()"
   ]
  }
 ],
 "metadata": {
  "kernelspec": {
   "display_name": "Python 3 (ipykernel)",
   "language": "python",
   "name": "python3"
  },
  "language_info": {
   "codemirror_mode": {
    "name": "ipython",
    "version": 3
   },
   "file_extension": ".py",
   "mimetype": "text/x-python",
   "name": "python",
   "nbconvert_exporter": "python",
   "pygments_lexer": "ipython3",
   "version": "3.9.13"
  }
 },
 "nbformat": 4,
 "nbformat_minor": 5
}
