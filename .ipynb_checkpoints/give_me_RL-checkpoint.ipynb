{
 "cells": [
  {
   "cell_type": "markdown",
   "id": "942a2bf9-e390-4c6b-b38f-f7bdf838d744",
   "metadata": {},
   "source": [
    "# imports\n"
   ]
  },
  {
   "cell_type": "code",
   "execution_count": 1,
   "id": "241babd9-316f-4ca6-90a0-b071063b7c94",
   "metadata": {},
   "outputs": [
    {
     "data": {
      "text/plain": [
       "0"
      ]
     },
     "execution_count": 1,
     "metadata": {},
     "output_type": "execute_result"
    }
   ],
   "source": [
    "import gc\n",
    "gc.collect()"
   ]
  },
  {
   "cell_type": "code",
   "execution_count": 2,
   "id": "c08a9eac-93af-45fb-87e1-6d3fdf8ed4b9",
   "metadata": {},
   "outputs": [],
   "source": [
    "import numpy as np\n",
    "from matplotlib import pyplot as plt"
   ]
  },
  {
   "cell_type": "markdown",
   "id": "b6e72cf7-2f3d-4cb8-b596-39d817e723d2",
   "metadata": {},
   "source": [
    "## simple xor data set"
   ]
  },
  {
   "cell_type": "code",
   "execution_count": 3,
   "id": "e9ebe7e5-6a21-4cab-afc6-ccc31924a093",
   "metadata": {
    "scrolled": true
   },
   "outputs": [],
   "source": [
    "# import math\n",
    "# train_size = 500\n",
    "# data_x_offset = 20\n",
    "# data_y_offset = 20\n",
    "# in_data = [] \n",
    "# target_data = []\n",
    "# for i in range(train_size):\n",
    "#     theta = np.random.random() * 2 * math.pi\n",
    "#     radius = np.random.rand() * 0.3\n",
    "#     if (i < train_size/4):\n",
    "#         in_data.append([0 + radius*math.cos(theta), 0 + radius*math.sin(theta) ])\n",
    "#         target_data.append([0])\n",
    "#     elif (i < 2*train_size/4):\n",
    "#         in_data.append([1 + radius*math.cos(theta), 1 + radius*math.sin(theta) ])\n",
    "#         target_data.append([0])\n",
    "#     elif(i < 3*train_size/4):\n",
    "#         in_data.append([ 1 + radius*math.cos(theta), 0 + radius*math.sin(theta) ])\n",
    "#         target_data.append([1])\n",
    "#     else:\n",
    "#         in_data.append([ 0 + radius*math.cos(theta), 1 + radius*math.sin(theta) ])\n",
    "#         target_data.append([1])\n",
    "\n",
    "# test_size = round(train_size*0.2)\n",
    "# in_test_data = [] \n",
    "# target_test_data = []\n",
    "# for i in range(test_size):\n",
    "#     theta = np.random.random() * 2 * math.pi\n",
    "#     radius = np.random.rand() * 0.3\n",
    "#     if (i < test_size/4):\n",
    "#         in_test_data.append([0 + radius*math.cos(theta), 0 + radius*math.sin(theta) ])\n",
    "#         target_test_data.append([0])\n",
    "#     elif (i < 2*test_size/4):\n",
    "#         in_test_data.append([1 + radius*math.cos(theta), 1 + radius*math.sin(theta) ])\n",
    "#         target_test_data.append([0])\n",
    "#     elif(i < 3*test_size/4):\n",
    "#         in_test_data.append([ 1 + radius*math.cos(theta), 0 + radius*math.sin(theta) ])\n",
    "#         target_test_data.append([1])\n",
    "#     else:\n",
    "#         in_test_data.append([ 0 + radius*math.cos(theta), 1 + radius*math.sin(theta) ])\n",
    "#         target_test_data.append([1])\n",
    "\n",
    "# plt.figure()\n",
    "# plt.scatter(np.array(in_data)[:, 0], np.array(in_data)[:, 1], c = target_data)\n",
    "# plt.xlabel('X')\n",
    "# plt.ylabel('Y')\n",
    "# plt.title(\"training data\")\n",
    "\n",
    "# plt.figure()\n",
    "# plt.scatter(np.array(in_test_data)[:, 0], np.array(in_test_data)[:, 1], c = target_test_data)\n",
    "# plt.xlabel('X')\n",
    "# plt.ylabel('Y')\n",
    "# plt.title(\"test data\")"
   ]
  },
  {
   "cell_type": "code",
   "execution_count": 4,
   "id": "03d9108c-d3cd-41eb-895b-5303f7766f09",
   "metadata": {
    "scrolled": true
   },
   "outputs": [
    {
     "data": {
      "text/plain": [
       "Text(0.5, 1.0, 'test data')"
      ]
     },
     "execution_count": 4,
     "metadata": {},
     "output_type": "execute_result"
    },
    {
     "data": {
      "image/png": "[encoded data removed]",
      "text/plain": [
       "<Figure size 640x480 with 1 Axes>"
      ]
     },
     "metadata": {},
     "output_type": "display_data"
    },
    {
     "data": {
      "image/png": "[encoded data removed]",
      "text/plain": [
       "<Figure size 640x480 with 1 Axes>"
      ]
     },
     "metadata": {},
     "output_type": "display_data"
    }
   ],
   "source": [
    "train_size = 1000\n",
    "\n",
    "\n",
    "in_data = [] \n",
    "target_data = []\n",
    "for i in range(train_size):\n",
    "    if (i < train_size/2):\n",
    "        if (i < train_size/4):\n",
    "            in_data.append([0, 0])\n",
    "        else:\n",
    "            in_data.append([1,1])\n",
    "        target_data.append([0])\n",
    "    else:\n",
    "        if (i < 3*train_size/4):\n",
    "            in_data.append([1, 0])\n",
    "        else:\n",
    "            in_data.append([0, 1])\n",
    "        target_data.append([1])\n",
    "\n",
    "\n",
    "test_size = round(train_size*0.2)\n",
    "in_test_data = [] \n",
    "target_test_data = []\n",
    "for i in range(test_size):\n",
    "    if (i < test_size/2):\n",
    "        if (i < test_size/4):\n",
    "            in_test_data.append([0,0])\n",
    "        else:\n",
    "            in_test_data.append([1,1])\n",
    "        target_test_data.append([0])\n",
    "    else:\n",
    "        if (i < 3*test_size/4):\n",
    "             in_test_data.append([0,1])\n",
    "        else:\n",
    "            in_test_data.append([1,0])\n",
    "        target_test_data.append([1])\n",
    "\n",
    "\n",
    "plt.figure()\n",
    "plt.scatter(np.array(in_data)[:, 0], np.array(in_data)[:, 1], c = target_data)\n",
    "plt.xlabel('X')\n",
    "plt.ylabel('Y')\n",
    "plt.title(\"training data\")\n",
    "\n",
    "plt.figure()\n",
    "plt.scatter(np.array(in_test_data)[:, 0], np.array(in_test_data)[:, 1], c = target_test_data)\n",
    "plt.xlabel('X')\n",
    "plt.ylabel('Y')\n",
    "plt.title(\"test data\")\n"
   ]
  },
  {
   "cell_type": "markdown",
   "id": "d0c6f8da-6b3c-4c20-baf8-2a7eebf51b5e",
   "metadata": {},
   "source": [
    "## plastic NN\n"
   ]
  },
  {
   "cell_type": "code",
   "execution_count": 5,
   "id": "0b76a4e1-60ca-4a7c-bd84-491aff854de3",
   "metadata": {},
   "outputs": [],
   "source": [
    "def Sigmoid(x):\n",
    "    #print(\"sig before: \", x)\n",
    "    res = 1 / (1 + np.exp(-x))\n",
    "    #print(\"sig after: \", res)\n",
    "    return res\n",
    "\n",
    "def d_Sigmoid(x):\n",
    "    #print(\"d sig before: \", x)\n",
    "    y = x * (1 - x)\n",
    "    #print(\"d sig after: \", y)\n",
    "    return y\n",
    "\n",
    "\n",
    "def ReLU(x):\n",
    "    #y = [ 0 if i < 0 else i for i in x]\n",
    "    for each in x:\n",
    "        each = max(0, each)\n",
    "    return y\n",
    "    \n",
    "def d_ReLU(x):\n",
    "    #x = [ 0 if i <= 0 else 1 for i in x]\n",
    "    #print(\"d relu before: \", x)\n",
    "    for each in x:\n",
    "        if (each <= 0):\n",
    "            each = 0\n",
    "        else:\n",
    "            each = 1\n",
    "        #x[x<=0] = 0\n",
    "    #x[x>0] = 1\n",
    "    \n",
    "    #print(\"d relu after: \", x)\n",
    "    return x\n",
    "    #return y\n",
    "\n",
    "activations_dict = {\n",
    "'Sigmoid': [Sigmoid, d_Sigmoid],\n",
    "'ReLU': [ReLU, d_ReLU],  \n",
    "}\n",
    "\n",
    "class layer:\n",
    "    def __init__(s, lr = 0.1, prev_size = 2, my_size=2, activation_type = \"Sigmoid\"):\n",
    "        s.lr = lr\n",
    "        s.size = my_size\n",
    "        s.prev_size = prev_size\n",
    "        s.weights = np.random.random((prev_size, s.size))\n",
    "        s.funcs = activations_dict.get(activation_type)\n",
    "        s.activation_f = s.funcs[0]\n",
    "        s.d_activation_f = s.funcs[1]\n",
    "\n",
    "\n",
    "    def activate(s, x):\n",
    "        return s.activation_f(x)\n",
    "        \n",
    "    def d_activate(s, x):\n",
    "        return s.d_activation_f(x)  \n",
    "\n",
    "    def forward(s, inputs):\n",
    "        \n",
    "        s.input = np.asarray(inputs)\n",
    "        #print(\"f \", s.input)\n",
    "        s.neurons = np.dot(s.input, s.weights)\n",
    "        s.neurons_activated = s.activate(s.neurons)\n",
    "        \n",
    "        return s.neurons_activated\n",
    "\n",
    "    def backprop(s, layer_error): # for output here layer_error = target_val - s.forward\n",
    "        s.delta = layer_error * s.d_activate(s.neurons_activated)\n",
    "        \n",
    "        s.prev_layer_error = np.dot(s.delta, s.weights.T)\n",
    "        #print(\"b \", s.input)\n",
    "        return s.prev_layer_error\n",
    "        \n",
    "    def update_weights(s):\n",
    "        s.input_t = s.input.T\n",
    "        #print(\"update input_t: \", s.input)\n",
    "        #print(\"delta: \", s.delta.shape)\n",
    "        \n",
    "        s.v = s.input_t.reshape((s.input_t.shape[0], 1))\n",
    "        #print(\"v: \", s.v.shape)\n",
    "\n",
    "        s.d = s.delta.reshape((1, s.delta.shape[0]))\n",
    "        s.weights += s.lr * np.dot(s.v, s.d) # (s.input_t, s.delta)\n",
    "        \n",
    "    def print_info(s):\n",
    "        print(\"my size: \", s.size)\n",
    "        print(\"w: \", s.weights, \"\\n\")\n",
    "        \n",
    "    def print_pic(s):\n",
    "        print(\"\\n╻...\\nv...\")\n",
    "        for i in range(s.size):\n",
    "            print('O\\t', end='')\n",
    "        \n",
    "\n",
    "    def add_neuron(s):     \n",
    "        add_w = np.zeros(shape=(s.prev_size, 1), dtype=float) + 0.1\n",
    "        s.weights = np.concatenate((s.weights, add_w.T))\n",
    "        s.size+=1\n",
    "\n",
    "\n"
   ]
  },
  {
   "cell_type": "code",
   "execution_count": 6,
   "id": "236b199e-4f3f-408a-812a-4bcd38839298",
   "metadata": {},
   "outputs": [],
   "source": [
    "\n",
    "class input_layer:\n",
    "    def __init__(s, size):\n",
    "        s.size = size\n",
    "        s.values = np.zeros(shape=(size), dtype = float)\n",
    "\n",
    "    def print_info(s):\n",
    "        print(\"IN LAYER\\nsize: \", s.size)\n",
    "        print(s.values)\n",
    "\n",
    "    def print_pic(s):\n",
    "        for i in range(s.size):\n",
    "            print(\"| |\\t\", end='')\n",
    "        print(\"\")\n",
    "        for i in range(s.size):\n",
    "            print(\" v \\t\", end='')\n",
    "        print(\"\")\n",
    "        for i in range(s.size):\n",
    "            print('@\\t', end='')\n",
    "\n",
    "    def forward(s, x):\n",
    "        return x\n",
    "        \n",
    "        \n",
    "\n",
    "class plastic_nn:\n",
    "    def __init__(s):\n",
    "        s.layers = []\n",
    "        s.n_of_layers = 0\n",
    "        \n",
    "        pass\n",
    "\n",
    "    def forward(s, data):\n",
    "        for lay in layers:\n",
    "            data = lay.forward(data)\n",
    "        s.last_result = data\n",
    "        return s.last_result\n",
    "\n",
    "    def backprop(s, correct):\n",
    "        err = correct-s.last_result\n",
    "\n",
    "        for lay in reversed(layers[1:]):\n",
    "            err = lay.backprop(err)\n",
    "\n",
    "    def update_w(s):\n",
    "        cnt = 0\n",
    "        for lay in reversed(layers[1:]):\n",
    "            #print(cnt)\n",
    "            cnt+=1\n",
    "            lay.update_weights()\n",
    "\n",
    "    def learn_one(s, in_data, target_data):\n",
    "        pnn.forward(in_data)\n",
    "\n",
    "        pnn.backprop(target_data)\n",
    "        pnn.update_w()   \n",
    "        \n",
    "    def append_one(s, new_layer, check = False):\n",
    "        if check and s.n_of_layers!=0:\n",
    "            last_layer_size = s.layers[-1].size\n",
    "            if last_layer_size != new_layer.prev_size:\n",
    "                print(\"size not match, layer \", s.n_of_layers)\n",
    "                return\n",
    "        s.layers.append(new_layer)\n",
    "        s.n_of_layers+=1\n",
    "        pass\n",
    "\n",
    "    def check_layers_sizes(s, check_layers):\n",
    "        #print(\"CHECK\")\n",
    "        for i in range(1, len(check_layers)):\n",
    "            #print(i)\n",
    "            #print(\"check_layers[i-1].size \",check_layers[i-1].size)\n",
    "            #print(\"check_layers[i].prev_size \",check_layers[i].prev_size)\n",
    "            if (check_layers[i-1].size != check_layers[i].prev_size):\n",
    "                print(\"error between \", i-1, \"and \", i)\n",
    "                return False\n",
    "        return True\n",
    "        \n",
    "    def append(s, new_layers):\n",
    "        test_layers = np.array([])\n",
    "        if s.n_of_layers != 0:\n",
    "            test_layers = s.layers[-1]\n",
    "            \n",
    "        test_layers = np.append(test_layers, new_layers)\n",
    "                \n",
    "        if (s.check_layers_sizes(test_layers)):\n",
    "            for lay in new_layers:\n",
    "                s.append_one(lay)\n",
    "\n",
    "            print(\"added succesfully\")\n",
    "            return True\n",
    "        else:\n",
    "            print(\"ERROR adding layers, check info above\")\n",
    "            return False\n",
    "\n",
    "    def print_info(s):\n",
    "        print(\"Num of layers: \", s.n_of_layers)\n",
    "        for cnt in range(s.n_of_layers):\n",
    "            print(\"#\", cnt)\n",
    "            s.layers[cnt].print_info()\n",
    "            print(\"\")\n",
    "    \n",
    "    def print_pic(s):\n",
    "        print(\"Num of layers: \", s.n_of_layers)\n",
    "        cnt = 0\n",
    "        for lay in s.layers:\n",
    "            lay.print_pic()\n",
    "            print(\"#\", cnt, end='')\n",
    "            cnt+=1\n",
    "        print(\"\\nOUT |#|\\nOUT  v\")\n",
    "\n"
   ]
  },
  {
   "cell_type": "markdown",
   "id": "0e9f0a36-94f0-4838-ac50-201112d4974a",
   "metadata": {},
   "source": [
    "## create pnn"
   ]
  },
  {
   "cell_type": "code",
   "execution_count": 7,
   "id": "694ff798-b4ac-4b41-9335-810b6e09d33d",
   "metadata": {},
   "outputs": [
    {
     "name": "stdout",
     "output_type": "stream",
     "text": [
      "added succesfully\n"
     ]
    },
    {
     "data": {
      "text/plain": [
       "True"
      ]
     },
     "execution_count": 7,
     "metadata": {},
     "output_type": "execute_result"
    }
   ],
   "source": [
    "np.random.seed(5)\n",
    "in_layer = input_layer(2)\n",
    "tl = layer(lr = 0.01, prev_size = 2, my_size=2, activation_type=\"ReLU\")\n",
    "out_layer = layer(lr = 0.01, prev_size = 2, my_size=1, activation_type=\"ReLU\")\n",
    "\n",
    "pnn = plastic_nn()\n",
    "layers = [in_layer, tl, out_layer]\n",
    "\n",
    "pnn.append(layers)\n"
   ]
  },
  {
   "cell_type": "markdown",
   "id": "b2344e6b-b3df-43da-b8d3-4eeef7d189b7",
   "metadata": {},
   "source": [
    "## train and test\n",
    "\n",
    "to note:\n",
    "\n",
    "epochs 1000, lr 0.01, rand seed 4\n",
    "\n",
    "epochs 2000, lr 0.1, rand seed 2"
   ]
  },
  {
   "cell_type": "code",
   "execution_count": 8,
   "id": "a7a4aadd-c479-48e8-9fa6-a437029e82a8",
   "metadata": {
    "scrolled": true
   },
   "outputs": [
    {
     "name": "stdout",
     "output_type": "stream",
     "text": [
      "[ ------------------------------------------------- *  ]\r"
     ]
    },
    {
     "data": {
      "text/plain": [
       "Text(0, 0.5, 'error')"
      ]
     },
     "execution_count": 8,
     "metadata": {},
     "output_type": "execute_result"
    },
    {
     "data": {
      "image/png": "[encoded data removed]",
      "text/plain": [
       "<Figure size 640x480 with 1 Axes>"
      ]
     },
     "metadata": {},
     "output_type": "display_data"
    }
   ],
   "source": [
    "to_display_bar = True\n",
    "\n",
    "graph_err = []\n",
    "graph_epoch=[]\n",
    "epochs = 1000\n",
    "target_data = np.array(target_data)\n",
    "#print(target_data)\n",
    "\n",
    "bar_len = 50\n",
    "\n",
    "def display_bar(bar_len, idx, total):\n",
    "    idx = int(idx*bar_len/total)\n",
    "    #print(perc)\n",
    "    print(\"[\", \"-\"*idx, \"*\", \"-\"*(bar_len-idx-1), \"]\", end='')\n",
    "    print(\"\\r\",end='')\n",
    "\n",
    "for i in range(epochs):\n",
    "    if to_display_bar:\n",
    "        display_bar(bar_len, i, epochs)\n",
    "    \n",
    "    for idx in range(len(in_data)):\n",
    "        #print(\"idx \", idx)\n",
    "        pnn.learn_one(in_data[idx],target_data[idx])\n",
    "\n",
    "\n",
    "\n",
    "    error_sum = 0\n",
    "    for idx in range(len(in_test_data)):\n",
    "        valid_res = pnn.forward(in_test_data[idx])\n",
    "        error = (target_test_data[idx] - valid_res)**2\n",
    "        error_sum+=error\n",
    "    \n",
    "    graph_err.append(error_sum/len(in_test_data))\n",
    "    graph_epoch.append(i)\n",
    "\n",
    "\n",
    "\n",
    "#print(\"graph_epoch \", graph_epoch)\n",
    "#print(\"(graph_err)\", graph_err)\n",
    "plt.figure()\n",
    "plt.scatter(graph_epoch, graph_err)\n",
    "plt.xlabel('epoch')\n",
    "plt.ylabel('error')\n",
    "\n",
    "\n",
    "    "
   ]
  },
  {
   "cell_type": "code",
   "execution_count": 19,
   "id": "ff6138d4-c722-41aa-a0e8-7894e7793f77",
   "metadata": {},
   "outputs": [
    {
     "name": "stdout",
     "output_type": "stream",
     "text": [
      "[0.]\n",
      "[1.]\n",
      "[-0.0315997]\n",
      "[0.9684003]\n",
      "Num of layers:  3\n",
      "# 0\n",
      "IN LAYER\n",
      "size:  2\n",
      "[0. 0.]\n",
      "\n",
      "# 1\n",
      "my size:  2\n",
      "w:  [[-2.47094200e-11 -2.93930344e-03]\n",
      " [ 9.24774598e-11  9.30168236e-02]] \n",
      "\n",
      "\n",
      "# 2\n",
      "my size:  1\n",
      "w:  [[ 1.03391404]\n",
      " [10.75074337]] \n",
      "\n",
      "\n"
     ]
    }
   ],
   "source": [
    "test_2_in = [[0,0], [0,1], [1, 0], [1,1]]\n",
    "for i in range(4):\n",
    "    print(pnn.forward(test_2_in[i]))\n",
    "\n",
    "pnn.print_info()"
   ]
  },
  {
   "cell_type": "markdown",
   "id": "bed04fbb-9240-4d26-9829-d1767c6585db",
   "metadata": {},
   "source": [
    "# RL test\n",
    "\n"
   ]
  },
  {
   "cell_type": "code",
   "execution_count": 10,
   "id": "f5c0df2e-3c30-4ef5-ac03-3fad1521047d",
   "metadata": {},
   "outputs": [],
   "source": [
    "# !pip install gym_super_mario_bros==7.4.0 nes_py"
   ]
  },
  {
   "cell_type": "code",
   "execution_count": 11,
   "id": "77c55f59-11d0-4e51-8242-a743ed0524fc",
   "metadata": {},
   "outputs": [],
   "source": [
    "# # Import the game\n",
    "# import gym_super_mario_bros\n",
    "# import gym\n",
    "\n",
    "# from nes_py.wrappers import JoypadSpace\n",
    "\n",
    "\n",
    "# from gym_super_mario_bros.actions import RIGHT_ONLY\n",
    "\n",
    "# from gym_super_mario_bros.actions import SIMPLE_MOVEMENT"
   ]
  },
  {
   "cell_type": "code",
   "execution_count": 12,
   "id": "e4a1bd82-b2a1-40a1-8e54-dedce77f7bf8",
   "metadata": {},
   "outputs": [],
   "source": [
    "\n",
    "# ENV_NAME = 'SuperMarioBros-1-1-v0'\n",
    "\n",
    "# if gym.__version__ < '0.26':\n",
    "#     print(\"<0.26\")\n",
    "#     env = gym_super_mario_bros.make(ENV_NAME, render_mode='human', new_step_api=True)\n",
    "# else:\n",
    "#     print(\">=0.26\")\n",
    "#     env = gym_super_mario_bros.make(ENV_NAME, render_mode='human', apply_api_compatibility=True)\n",
    "# env = JoypadSpace(env, RIGHT_ONLY) #SIMPLE_MOVEMENT\n",
    "\n",
    "# done = False\n",
    "# env.reset()\n",
    "# counter = 0\n",
    "# while not done and counter < 100000:\n",
    "#     # Only go right\n",
    "#     # action = RIGHT_ONLY.index(['right'])\n",
    "    \n",
    "#     # Choose random action\n",
    "#     action = env.action_space.sample()\n",
    "\n",
    "#     _, _, done, _, _ = env.step(action)\n",
    "#     env.render()\n",
    "#     counter+=1\n",
    "# env.close()"
   ]
  },
  {
   "cell_type": "markdown",
   "id": "94ec4bd7-58f5-4105-81c0-98b193e88d31",
   "metadata": {},
   "source": [
    "# RL test cartpole"
   ]
  },
  {
   "cell_type": "code",
   "execution_count": 13,
   "id": "8de16d3a-24ce-4a82-a075-e7f585a66e03",
   "metadata": {},
   "outputs": [],
   "source": [
    "# !pip install gymnasium\n",
    "# !pip install gymnasium[classic-control]"
   ]
  },
  {
   "cell_type": "code",
   "execution_count": 14,
   "id": "71088396-e723-47a4-8fb5-ffccb20d46ca",
   "metadata": {},
   "outputs": [],
   "source": [
    "# !pip install -q swig"
   ]
  },
  {
   "cell_type": "code",
   "execution_count": 15,
   "id": "b6a0fc25-e569-4d48-9a45-b31b0d6fafa3",
   "metadata": {
    "editable": true,
    "scrolled": true,
    "slideshow": {
     "slide_type": ""
    },
    "tags": []
   },
   "outputs": [],
   "source": [
    "#!pip install gymnasium[box2d]"
   ]
  },
  {
   "cell_type": "code",
   "execution_count": 16,
   "id": "78393b57-b269-4da1-b651-dbb60cbd5dab",
   "metadata": {},
   "outputs": [],
   "source": [
    "# import gymnasium as gym\n",
    "#"
   ]
  },
  {
   "cell_type": "code",
   "execution_count": null,
   "id": "72aafe7e-dad5-4ba0-a59d-222cda97b614",
   "metadata": {},
   "outputs": [],
   "source": [
    "\n",
    "\n"
   ]
  },
  {
   "cell_type": "code",
   "execution_count": 17,
   "id": "4c6a0a29-c1d9-474f-8a59-0526bbe35ace",
   "metadata": {},
   "outputs": [],
   "source": [
    "# env = gym.make('CartPole-v1', render_mode=\"human\")\n",
    "# print(env.action_space) # 0 or 1\n",
    "\n",
    "# observation, info = env.reset(seed=42)\n",
    "# for _ in range(100):\n",
    "#    action = env.action_space.sample()  # this is where you would insert your policy\n",
    "#    observation, reward, terminated, truncated, info = env.step(action)\n",
    "\n",
    "#    #if terminated:# or truncated:\n",
    "#       #observation, info = env.reset()\n",
    "\n",
    "# env.close()"
   ]
  },
  {
   "cell_type": "code",
   "execution_count": 18,
   "id": "cd2d2225-f0dd-4213-bf8a-12da1f206101",
   "metadata": {},
   "outputs": [],
   "source": [
    "# env.close()"
   ]
  },
  {
   "cell_type": "code",
   "execution_count": null,
   "id": "a55410f9-91ff-4226-b0e9-157022e3311d",
   "metadata": {},
   "outputs": [],
   "source": []
  }
 ],
 "metadata": {
  "kernelspec": {
   "display_name": "Python 3 (ipykernel)",
   "language": "python",
   "name": "python3"
  },
  "language_info": {
   "codemirror_mode": {
    "name": "ipython",
    "version": 3
   },
   "file_extension": ".py",
   "mimetype": "text/x-python",
   "name": "python",
   "nbconvert_exporter": "python",
   "pygments_lexer": "ipython3",
   "version": "3.9.13"
  }
 },
 "nbformat": 4,
 "nbformat_minor": 5
}
