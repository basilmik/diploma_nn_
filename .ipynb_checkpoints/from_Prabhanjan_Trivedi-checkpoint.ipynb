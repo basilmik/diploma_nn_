{
 "cells": [
  {
   "cell_type": "code",
   "execution_count": 22,
   "id": "bb347060-b2d4-4a17-8869-cade64b451e9",
   "metadata": {
    "scrolled": true
   },
   "outputs": [
    {
     "name": "stdout",
     "output_type": "stream",
     "text": [
      "Defaulting to user installation because normal site-packages is not writeable\n",
      "Requirement already satisfied: keras in c:\\users\\basil\\appdata\\roaming\\python\\python39\\site-packages (3.3.3)\n",
      "Requirement already satisfied: absl-py in c:\\users\\basil\\appdata\\roaming\\python\\python39\\site-packages (from keras) (2.1.0)\n",
      "Requirement already satisfied: numpy in c:\\program files (x86)\\microsoft visual studio\\shared\\python39_64\\lib\\site-packages (from keras) (1.26.1)\n",
      "Requirement already satisfied: rich in c:\\users\\basil\\appdata\\roaming\\python\\python39\\site-packages (from keras) (13.7.1)\n",
      "Requirement already satisfied: namex in c:\\users\\basil\\appdata\\roaming\\python\\python39\\site-packages (from keras) (0.0.8)\n",
      "Requirement already satisfied: h5py in c:\\users\\basil\\appdata\\roaming\\python\\python39\\site-packages (from keras) (3.11.0)\n",
      "Requirement already satisfied: optree in c:\\users\\basil\\appdata\\roaming\\python\\python39\\site-packages (from keras) (0.11.0)\n",
      "Requirement already satisfied: ml-dtypes in c:\\users\\basil\\appdata\\roaming\\python\\python39\\site-packages (from keras) (0.3.2)\n",
      "Requirement already satisfied: typing-extensions>=4.0.0 in c:\\program files (x86)\\microsoft visual studio\\shared\\python39_64\\lib\\site-packages (from optree->keras) (4.8.0)\n",
      "Requirement already satisfied: markdown-it-py>=2.2.0 in c:\\users\\basil\\appdata\\roaming\\python\\python39\\site-packages (from rich->keras) (3.0.0)\n",
      "Requirement already satisfied: pygments<3.0.0,>=2.13.0 in c:\\users\\basil\\appdata\\roaming\\python\\python39\\site-packages (from rich->keras) (2.18.0)\n",
      "Requirement already satisfied: mdurl~=0.1 in c:\\users\\basil\\appdata\\roaming\\python\\python39\\site-packages (from markdown-it-py>=2.2.0->rich->keras) (0.1.2)\n"
     ]
    }
   ],
   "source": [
    "!pip install keras"
   ]
  },
  {
   "cell_type": "code",
   "execution_count": 2,
   "id": "f954ac85-f92f-4d5a-aeae-f938c6de651c",
   "metadata": {
    "scrolled": true
   },
   "outputs": [
    {
     "name": "stdout",
     "output_type": "stream",
     "text": [
      "Defaulting to user installation because normal site-packages is not writeable\n",
      "Requirement already satisfied: gymnasium in c:\\users\\basil\\appdata\\roaming\\python\\python39\\site-packages (0.29.1)\n",
      "Requirement already satisfied: numpy>=1.21.0 in c:\\program files (x86)\\microsoft visual studio\\shared\\python39_64\\lib\\site-packages (from gymnasium) (1.26.1)\n",
      "Requirement already satisfied: cloudpickle>=1.2.0 in c:\\users\\basil\\appdata\\roaming\\python\\python39\\site-packages (from gymnasium) (3.0.0)\n",
      "Requirement already satisfied: typing-extensions>=4.3.0 in c:\\program files (x86)\\microsoft visual studio\\shared\\python39_64\\lib\\site-packages (from gymnasium) (4.8.0)\n",
      "Requirement already satisfied: farama-notifications>=0.0.1 in c:\\users\\basil\\appdata\\roaming\\python\\python39\\site-packages (from gymnasium) (0.0.4)\n",
      "Requirement already satisfied: importlib-metadata>=4.8.0 in c:\\users\\basil\\appdata\\roaming\\python\\python39\\site-packages (from gymnasium) (7.1.0)\n",
      "Requirement already satisfied: zipp>=0.5 in c:\\program files (x86)\\microsoft visual studio\\shared\\python39_64\\lib\\site-packages (from importlib-metadata>=4.8.0->gymnasium) (3.17.0)\n",
      "Defaulting to user installation because normal site-packages is not writeable\n",
      "Requirement already satisfied: gymnasium[classic-control] in c:\\users\\basil\\appdata\\roaming\\python\\python39\\site-packages (0.29.1)\n",
      "Requirement already satisfied: numpy>=1.21.0 in c:\\program files (x86)\\microsoft visual studio\\shared\\python39_64\\lib\\site-packages (from gymnasium[classic-control]) (1.26.1)\n",
      "Requirement already satisfied: cloudpickle>=1.2.0 in c:\\users\\basil\\appdata\\roaming\\python\\python39\\site-packages (from gymnasium[classic-control]) (3.0.0)\n",
      "Requirement already satisfied: typing-extensions>=4.3.0 in c:\\program files (x86)\\microsoft visual studio\\shared\\python39_64\\lib\\site-packages (from gymnasium[classic-control]) (4.8.0)\n",
      "Requirement already satisfied: farama-notifications>=0.0.1 in c:\\users\\basil\\appdata\\roaming\\python\\python39\\site-packages (from gymnasium[classic-control]) (0.0.4)\n",
      "Requirement already satisfied: importlib-metadata>=4.8.0 in c:\\users\\basil\\appdata\\roaming\\python\\python39\\site-packages (from gymnasium[classic-control]) (7.1.0)\n",
      "Requirement already satisfied: pygame>=2.1.3 in c:\\users\\basil\\appdata\\roaming\\python\\python39\\site-packages (from gymnasium[classic-control]) (2.5.2)\n",
      "Requirement already satisfied: zipp>=0.5 in c:\\program files (x86)\\microsoft visual studio\\shared\\python39_64\\lib\\site-packages (from importlib-metadata>=4.8.0->gymnasium[classic-control]) (3.17.0)\n"
     ]
    }
   ],
   "source": [
    "!pip install gymnasium\n",
    "!pip install gymnasium[classic-control]"
   ]
  },
  {
   "cell_type": "code",
   "execution_count": 27,
   "id": "affiliated-sensitivity",
   "metadata": {},
   "outputs": [],
   "source": [
    "import gymnasium as gym\n",
    "import numpy as np \n",
    "import matplotlib.pyplot as plt\n",
    "import time\n",
    "import random\n",
    "from collections import deque\n",
    "\n",
    "import keras\n",
    "from keras.activations import relu, linear\n",
    "from keras.layers import Dense\n",
    "from keras import Sequential \n",
    "from keras.optimizers import Adam\n",
    "\n",
    "from random import shuffle\n",
    "import math"
   ]
  },
  {
   "cell_type": "code",
   "execution_count": 36,
   "id": "d783fb49-a8da-4d82-a33c-12fcafd61f09",
   "metadata": {},
   "outputs": [],
   "source": [
    "ACTION_DIM = 2\n",
    "STATE_DIM =4\n",
    "MAX_ITERATIONS = 200\n",
    "LEARNING_RATE = 0.01\n",
    "NUM_EPOCHS = 50\n",
    "\n",
    "GAMMA = 0.99\n",
    "REPLAY_MEMORY_SIZE = 10_000\n",
    "NUM_EPISODES = 200\n",
    "MINIBATCH_SIZE = 32\n",
    "\n",
    "RANDOM_ACTION_DECAY = 0.99\n",
    "INITIAL_RANDOM_ACTION = 1\n",
    "Samples = []\n",
    "Sean = []"
   ]
  },
  {
   "cell_type": "code",
   "execution_count": 41,
   "id": "fb60b5e1-31a6-41f8-bf4f-3ebd22c5fab1",
   "metadata": {},
   "outputs": [],
   "source": [
    "class replay_buffer():\n",
    "    def __init__(s, max_size):\n",
    "        s.max_size= max_size\n",
    "        s.arr = deque() # maxsize = max_size\n",
    "    \n",
    "    def add(s, val):\n",
    "        if len(s.arr) > s.max_size:\n",
    "            if (np.random.random < 0.5):\n",
    "                shuffle(s.arr)\n",
    "            s.arr.popleft()\n",
    "        s.arr.append(val)\n",
    "        \n",
    "    def sample(s, sample_size):\n",
    "        return random.sample(s.arr, sample_size)\n",
    "\n",
    "    def __len__(s):\n",
    "        return len(s.arr)\n",
    "    \n",
    "                             \n",
    "        "
   ]
  },
  {
   "cell_type": "code",
   "execution_count": 34,
   "id": "857f5ed4-b3a7-4d34-a12d-6c71b7d7ab52",
   "metadata": {},
   "outputs": [],
   "source": [
    "def get_q(model, state):\n",
    "    np_state = np.reshape(state, [-1, STATE_DIM])\n",
    "    return model.predict(np_state)\n",
    "    \n",
    "def predict(model, state):\n",
    "    np_state = np.reshape(state, [-1, STATE_DIM]) \n",
    "    return model.predict(np_state)\n",
    "\n",
    "def train(model, state, targets):\n",
    "    np_state = np.reshape(state, [-1, STATE_DIM])\n",
    "    np_targets = np.reshape(targets, [-1, ACTION_DIM])\n",
    "    model.fit(np_state, np_targets, epochs = 1, verbose = 0)\n",
    "\n",
    "def get_model():\n",
    "    model = Sequential()\n",
    "\n",
    "    model.add(Dense(24, input_shape = (STATE_DIM, ), activation = 'relu'))\n",
    "    model.add(Dense(24, activation = 'relu'))\n",
    "    model.add(Dense(2, activation = 'linear'))\n",
    "    \n",
    "    model.compile(\n",
    "        optimizer=Adam(learning_rate=LEARNING_RATE),\n",
    "        loss='mse',\n",
    "        metrics=[],\n",
    "    )\n",
    "    return model\n",
    "\n",
    "def update_action(action_model, target_model, sample):\n",
    "    random.shuffle(sample)\n",
    "    batch_states = []\n",
    "    batch_targets = []\n",
    "\n",
    "    for old_state, reward, new_state, action in sample:\n",
    "        targets = np.reshape(get_q(action_model, old_state), ACTION_DIM)\n",
    "        tagrets[action] = reward\n",
    "        if new_state is not None:\n",
    "            predictions = predict(target_model, new_state)\n",
    "            new_action = np.argmax(predicions)\n",
    "\n",
    "            targets[action] += GAMMA* predictions[0, new_action]\n",
    "\n",
    "        batch_states.append(old_state)\n",
    "        batch_targets.append(targets)\n",
    "\n",
    "    train(action_model, batch_states, batch_targets)\n",
    "    \n"
   ]
  },
  {
   "cell_type": "code",
   "execution_count": 50,
   "id": "089a4fb2-c87e-49ca-b802-dee641ff3660",
   "metadata": {},
   "outputs": [
    {
     "name": "stderr",
     "output_type": "stream",
     "text": [
      "C:\\Users\\basil\\AppData\\Roaming\\Python\\Python39\\site-packages\\keras\\src\\layers\\core\\dense.py:87: UserWarning: Do not pass an `input_shape`/`input_dim` argument to a layer. When using Sequential models, prefer using an `Input(shape)` object as the first layer in the model instead.\n",
      "  super().__init__(activity_regularizer=activity_regularizer, **kwargs)\n",
      "C:\\Program Files (x86)\\Microsoft Visual Studio\\Shared\\Python39_64\\lib\\site-packages\\numpy\\core\\fromnumeric.py:3504: RuntimeWarning: Mean of empty slice.\n",
      "  return _methods._mean(a, axis=axis, dtype=dtype,\n",
      "C:\\Program Files (x86)\\Microsoft Visual Studio\\Shared\\Python39_64\\lib\\site-packages\\numpy\\core\\_methods.py:129: RuntimeWarning: invalid value encountered in scalar divide\n",
      "  ret = ret.dtype.type(ret / rcount)\n",
      "C:\\Users\\basil\\AppData\\Roaming\\Python\\Python39\\site-packages\\gymnasium\\envs\\classic_control\\cartpole.py:180: UserWarning: \u001b[33mWARN: You are calling 'step()' even though this environment has already returned terminated = True. You should always call 'reset()' once you receive 'terminated = True' -- any further steps are undefined behavior.\u001b[0m\n",
      "  logger.warn(\n"
     ]
    },
    {
     "name": "stdout",
     "output_type": "stream",
     "text": [
      "\u001b[1m1/1\u001b[0m \u001b[32m━━━━━━━━━━━━━━━━━━━━\u001b[0m\u001b[37m\u001b[0m \u001b[1m0s\u001b[0m 232ms/step\n"
     ]
    },
    {
     "ename": "NameError",
     "evalue": "name 'tagrets' is not defined",
     "output_type": "error",
     "traceback": [
      "\u001b[1;31m---------------------------------------------------------------------------\u001b[0m",
      "\u001b[1;31mNameError\u001b[0m                                 Traceback (most recent call last)",
      "Cell \u001b[1;32mIn[50], line 53\u001b[0m\n\u001b[0;32m     51\u001b[0m         \u001b[38;5;28;01mif\u001b[39;00m \u001b[38;5;28mlen\u001b[39m(replay) \u001b[38;5;241m>\u001b[39m\u001b[38;5;241m=\u001b[39m MINIBATCH_SIZE \u001b[38;5;129;01mand\u001b[39;00m np\u001b[38;5;241m.\u001b[39mrandom\u001b[38;5;241m.\u001b[39mrandom() \u001b[38;5;241m<\u001b[39m \u001b[38;5;241m0.25\u001b[39m:\n\u001b[0;32m     52\u001b[0m             minibatch \u001b[38;5;241m=\u001b[39m replay\u001b[38;5;241m.\u001b[39msample(MINIBATCH_SIZE)\n\u001b[1;32m---> 53\u001b[0m             \u001b[43mupdate_action\u001b[49m\u001b[43m(\u001b[49m\u001b[43maction_model\u001b[49m\u001b[43m,\u001b[49m\u001b[43m \u001b[49m\u001b[43maction_model\u001b[49m\u001b[43m,\u001b[49m\u001b[43m \u001b[49m\u001b[43mminibatch\u001b[49m\u001b[43m)\u001b[49m\n\u001b[0;32m     58\u001b[0m env\u001b[38;5;241m.\u001b[39mclose()\n",
      "Cell \u001b[1;32mIn[34], line 35\u001b[0m, in \u001b[0;36mupdate_action\u001b[1;34m(action_model, target_model, sample)\u001b[0m\n\u001b[0;32m     33\u001b[0m \u001b[38;5;28;01mfor\u001b[39;00m old_state, reward, new_state, action \u001b[38;5;129;01min\u001b[39;00m sample:\n\u001b[0;32m     34\u001b[0m     targets \u001b[38;5;241m=\u001b[39m np\u001b[38;5;241m.\u001b[39mreshape(get_q(action_model, old_state), ACTION_DIM)\n\u001b[1;32m---> 35\u001b[0m     \u001b[43mtagrets\u001b[49m[action] \u001b[38;5;241m=\u001b[39m reward\n\u001b[0;32m     36\u001b[0m     \u001b[38;5;28;01mif\u001b[39;00m new_state \u001b[38;5;129;01mis\u001b[39;00m \u001b[38;5;129;01mnot\u001b[39;00m \u001b[38;5;28;01mNone\u001b[39;00m:\n\u001b[0;32m     37\u001b[0m         predictions \u001b[38;5;241m=\u001b[39m predict(target_model, new_state)\n",
      "\u001b[1;31mNameError\u001b[0m: name 'tagrets' is not defined"
     ]
    }
   ],
   "source": [
    "Temp = []\n",
    "iteration = 0\n",
    "\n",
    "rand_action_prob = INITIAL_RANDOM_ACTION\n",
    "\n",
    "replay = replay_buffer(REPLAY_MEMORY_SIZE)\n",
    "\n",
    "action_model = get_model()\n",
    "\n",
    "env = gym.make('CartPole-v1')\n",
    "\n",
    "for episode in range(NUM_EPISODES):\n",
    "    if np.mean(Temp) > 195 and cnt > 195:\n",
    "        print('PASSED!')\n",
    "        break\n",
    "\n",
    "    rand_action_prob+=RANDOM_ACTION_DECAY\n",
    "\n",
    "    \n",
    "    old_state, info = env.reset()\n",
    "\n",
    "    for iteration in range(MAX_ITERATIONS):\n",
    "        rand_action_prob = max(rand_action_prob, 0.1)\n",
    "        old_state = old_state\n",
    "        if np.random.random() < rand_action_prob:\n",
    "            action = env.action_space.sample()\n",
    "        else:\n",
    "            q_values = get_q(action_model, old_state)\n",
    "            sction = q_values.argmax()\n",
    "\n",
    "        new_state, reward, terminated, done, info = env.step(action)\n",
    "\n",
    "        if done or terminated:\n",
    "            Samples.append(iteration+1)\n",
    "            if (len(Samples) > 50):\n",
    "                Temp = Samples[-50:] # select most recent 50\n",
    "                Mean.append(np.mean(Samples[-20:]))\n",
    "            \n",
    "            print('episode: ', episode, ' iteration: ', iteration, ' rand_action_prob: ', rand_action_prob)\n",
    "\n",
    "            if iteration != 199:\n",
    "                reward = -5\n",
    "            if iteration == 199:\n",
    "                reward = 5\n",
    "            replay.add((old_state, reward, new_state, action))\n",
    "            break # and start game again\n",
    "\n",
    "        replay.add((old_state, reward, new_state, action))\n",
    "\n",
    "        # update model\n",
    "        if len(replay) >= MINIBATCH_SIZE and np.random.random() < 0.25:\n",
    "            minibatch = replay.sample(MINIBATCH_SIZE)\n",
    "            update_action(action_model, action_model, minibatch)\n",
    "                \n",
    "        \n",
    "\n",
    "\n",
    "env.close()\n",
    "\n",
    "    "
   ]
  },
  {
   "cell_type": "code",
   "execution_count": null,
   "id": "3f319134-b55f-4df8-872d-302020f0e4f5",
   "metadata": {},
   "outputs": [],
   "source": [
    "env = gym.make('CartPole-v1', render_mode = 'human')\n",
    "Tests = []\n",
    "for i in range(10):\n",
    "    prev_state, info = env.reset()\n",
    "    terminated = False\n",
    "    done = False\n",
    "    cnt = 0\n",
    "    while not terminated and not done:\n",
    "        q_valus = get_q(action_model, prev_state)\n",
    "        action = q_values.argmax()\n",
    "        state, reward, terminated, done, info = env.step(action)\n",
    "        if done:\n",
    "            Tests.append(cnt)\n",
    "            break\n",
    "        cnt+=1\n",
    "        prev_state = state\n",
    "        \n",
    "env.close()\n",
    "\n",
    "plt.plot(Tests)\n"
   ]
  }
 ],
 "metadata": {
  "kernelspec": {
   "display_name": "Python 3 (ipykernel)",
   "language": "python",
   "name": "python3"
  },
  "language_info": {
   "codemirror_mode": {
    "name": "ipython",
    "version": 3
   },
   "file_extension": ".py",
   "mimetype": "text/x-python",
   "name": "python",
   "nbconvert_exporter": "python",
   "pygments_lexer": "ipython3",
   "version": "3.9.13"
  }
 },
 "nbformat": 4,
 "nbformat_minor": 5
}
