{
 "cells": [
  {
   "cell_type": "code",
   "execution_count": 7,
   "id": "b069f34c-0d32-40f6-ade7-f4c28f8dbb05",
   "metadata": {},
   "outputs": [],
   "source": [
    "import gymnasium as gym\n",
    "from gym import wrappers\n",
    "import numpy as np \n",
    "import matplotlib.pyplot as plt\n",
    "import time\n",
    "import random\n",
    "from collections import deque\n",
    "\n",
    "import keras\n",
    "from keras.activations import relu, linear\n",
    "from keras.layers import Dense\n",
    "from keras import Sequential \n",
    "from keras.optimizers import Adam\n",
    "\n",
    "from random import shuffle\n",
    "import math\n",
    "\n",
    "from tqdm import tqdm"
   ]
  },
  {
   "cell_type": "code",
   "execution_count": 4,
   "id": "01ca1bca-6a99-40a0-9589-7c4d3550259e",
   "metadata": {},
   "outputs": [],
   "source": [
    "ACTION_DIM = 2\n",
    "STATE_DIM = 4\n",
    "MAX_ITERATIONS = 200\n",
    "LEARNING_RATE = 0.01\n",
    "NUM_EPOCHS = 50\n",
    "\n",
    "GAMMA = 0.99\n",
    "REPLAY_MEMORY_SIZE = 10000\n",
    "NUM_EPISODES = 200\n",
    "MINIBATCH_SIZE = 32\n",
    "\n",
    "RANDOM_ACTION_DECAY = 0.99\n",
    "INITIAL_RANDOM_ACTION = 1\n",
    "Samples = []\n",
    "Mean = []"
   ]
  },
  {
   "cell_type": "code",
   "execution_count": 6,
   "id": "b9fd0fed-f0c7-4a1f-ba37-567e03e1dcc0",
   "metadata": {},
   "outputs": [],
   "source": [
    "model = Sequential()\n",
    "\n",
    "model.add(Dense(24, input_dim = STATE_DIM, activation = 'relu'))\n",
    "model.add(Dense(24, activation = 'relu'))\n",
    "model.add(Dense(2, activation = 'linear'))\n",
    "    \n",
    "model.compile(loss='mse', optimizer='adam')"
   ]
  },
  {
   "cell_type": "code",
   "execution_count": 8,
   "id": "43c6c165-e743-44da-b9a4-dd89ae931ec7",
   "metadata": {},
   "outputs": [
    {
     "ename": "IndentationError",
     "evalue": "expected an indented block (2456644746.py, line 8)",
     "output_type": "error",
     "traceback": [
      "\u001b[1;36m  Cell \u001b[1;32mIn[8], line 8\u001b[1;36m\u001b[0m\n\u001b[1;33m    for episode in tqdm(range(num_episodes)):\u001b[0m\n\u001b[1;37m                                             ^\u001b[0m\n\u001b[1;31mIndentationError\u001b[0m\u001b[1;31m:\u001b[0m expected an indented block\n"
     ]
    }
   ],
   "source": [
    "num_episodes = 10\n",
    "num_state = 2\n",
    "memory=deque(maxlen=2000)\n",
    "\n",
    "epsolin = 0.3\n",
    "gamma = 0.95\n",
    "batch_size = 32\n",
    "\n",
    "env = gym.make('CartPole-v0')\n",
    "\n",
    "for episode in tqdm(range(num_episodes)):\n",
    "    state, infp =  env.reset\n",
    "    done = False\n",
    "    while not done:\n",
    "        if np.random.uniform() < epsilon:\n",
    "            action = env.action_space.sample()\n",
    "        else:\n",
    "            q_val = model.predict(state.reshape(1, num_state))\n",
    "            action = np.argmax(q_value[0])\n",
    "\n",
    "        new_state, reward, truncated, done, info = env.step(action)\n",
    "\n",
    "        memory.append((state, action, reward, next_state, done))\n",
    "\n",
    "        state = next_state\n",
    "\n",
    "    if len(memory) > batch_size:\n",
    "        mini_batch = random.sample(memory, batch_size)\n",
    "        for state, action, reward, next_state, done in minibatch:\n",
    "            if done:\n",
    "                target = reward\n",
    "            else:\n",
    "                target - reward + gamma*(np.max (model.predict(next_state.reshape(1, num_state))[0]))\n",
    "            q_val = model.predict(state.reshape(1, num_state))\n",
    "            q_value[0][action] = target\n",
    "            model.fit(state.reshape(1, num_state), q_value, epochs = 1, verbose = 0)\n",
    "\n",
    "env.close()"
   ]
  },
  {
   "cell_type": "code",
   "execution_count": null,
   "id": "6eba425e-b5a6-4406-9f2d-827ebc7eb675",
   "metadata": {},
   "outputs": [],
   "source": []
  }
 ],
 "metadata": {
  "kernelspec": {
   "display_name": "Python 3 (ipykernel)",
   "language": "python",
   "name": "python3"
  },
  "language_info": {
   "codemirror_mode": {
    "name": "ipython",
    "version": 3
   },
   "file_extension": ".py",
   "mimetype": "text/x-python",
   "name": "python",
   "nbconvert_exporter": "python",
   "pygments_lexer": "ipython3",
   "version": "3.9.13"
  }
 },
 "nbformat": 4,
 "nbformat_minor": 5
}
