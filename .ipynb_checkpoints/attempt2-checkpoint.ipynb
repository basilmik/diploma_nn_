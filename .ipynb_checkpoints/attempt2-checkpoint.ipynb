{
 "cells": [
  {
   "cell_type": "code",
   "execution_count": 1,
   "id": "66fff9ae-68b5-445d-b9e7-e300cd3cb812",
   "metadata": {
    "scrolled": true
   },
   "outputs": [
    {
     "name": "stdout",
     "output_type": "stream",
     "text": [
      "Defaulting to user installation because normal site-packages is not writeable\n",
      "Requirement already satisfied: import-ipynb in c:\\users\\basil\\appdata\\roaming\\python\\python39\\site-packages (0.1.4)\n",
      "Requirement already satisfied: IPython in c:\\users\\basil\\appdata\\roaming\\python\\python39\\site-packages (from import-ipynb) (8.18.1)\n",
      "Requirement already satisfied: nbformat in c:\\users\\basil\\appdata\\roaming\\python\\python39\\site-packages (from import-ipynb) (5.10.4)\n",
      "Requirement already satisfied: decorator in c:\\program files (x86)\\microsoft visual studio\\shared\\python39_64\\lib\\site-packages (from IPython->import-ipynb) (5.1.1)\n",
      "Requirement already satisfied: jedi>=0.16 in c:\\users\\basil\\appdata\\roaming\\python\\python39\\site-packages (from IPython->import-ipynb) (0.19.1)\n",
      "Requirement already satisfied: matplotlib-inline in c:\\users\\basil\\appdata\\roaming\\python\\python39\\site-packages (from IPython->import-ipynb) (0.1.7)\n",
      "Requirement already satisfied: prompt-toolkit<3.1.0,>=3.0.41 in c:\\users\\basil\\appdata\\roaming\\python\\python39\\site-packages (from IPython->import-ipynb) (3.0.43)\n",
      "Requirement already satisfied: pygments>=2.4.0 in c:\\users\\basil\\appdata\\roaming\\python\\python39\\site-packages (from IPython->import-ipynb) (2.18.0)\n",
      "Requirement already satisfied: stack-data in c:\\users\\basil\\appdata\\roaming\\python\\python39\\site-packages (from IPython->import-ipynb) (0.6.3)\n",
      "Requirement already satisfied: traitlets>=5 in c:\\users\\basil\\appdata\\roaming\\python\\python39\\site-packages (from IPython->import-ipynb) (5.14.3)\n",
      "Requirement already satisfied: typing-extensions in c:\\program files (x86)\\microsoft visual studio\\shared\\python39_64\\lib\\site-packages (from IPython->import-ipynb) (4.8.0)\n",
      "Requirement already satisfied: exceptiongroup in c:\\users\\basil\\appdata\\roaming\\python\\python39\\site-packages (from IPython->import-ipynb) (1.2.1)\n",
      "Requirement already satisfied: colorama in c:\\program files (x86)\\microsoft visual studio\\shared\\python39_64\\lib\\site-packages (from IPython->import-ipynb) (0.4.6)\n",
      "Requirement already satisfied: fastjsonschema>=2.15 in c:\\users\\basil\\appdata\\roaming\\python\\python39\\site-packages (from nbformat->import-ipynb) (2.19.1)\n",
      "Requirement already satisfied: jsonschema>=2.6 in c:\\users\\basil\\appdata\\roaming\\python\\python39\\site-packages (from nbformat->import-ipynb) (4.22.0)\n",
      "Requirement already satisfied: jupyter-core!=5.0.*,>=4.12 in c:\\users\\basil\\appdata\\roaming\\python\\python39\\site-packages (from nbformat->import-ipynb) (5.7.2)\n",
      "Requirement already satisfied: parso<0.9.0,>=0.8.3 in c:\\users\\basil\\appdata\\roaming\\python\\python39\\site-packages (from jedi>=0.16->IPython->import-ipynb) (0.8.4)\n",
      "Requirement already satisfied: attrs>=22.2.0 in c:\\users\\basil\\appdata\\roaming\\python\\python39\\site-packages (from jsonschema>=2.6->nbformat->import-ipynb) (23.2.0)\n",
      "Requirement already satisfied: jsonschema-specifications>=2023.03.6 in c:\\users\\basil\\appdata\\roaming\\python\\python39\\site-packages (from jsonschema>=2.6->nbformat->import-ipynb) (2023.12.1)\n",
      "Requirement already satisfied: referencing>=0.28.4 in c:\\users\\basil\\appdata\\roaming\\python\\python39\\site-packages (from jsonschema>=2.6->nbformat->import-ipynb) (0.35.1)\n",
      "Requirement already satisfied: rpds-py>=0.7.1 in c:\\users\\basil\\appdata\\roaming\\python\\python39\\site-packages (from jsonschema>=2.6->nbformat->import-ipynb) (0.18.1)\n",
      "Requirement already satisfied: platformdirs>=2.5 in c:\\program files (x86)\\microsoft visual studio\\shared\\python39_64\\lib\\site-packages (from jupyter-core!=5.0.*,>=4.12->nbformat->import-ipynb) (3.11.0)\n",
      "Requirement already satisfied: pywin32>=300 in c:\\users\\basil\\appdata\\roaming\\python\\python39\\site-packages (from jupyter-core!=5.0.*,>=4.12->nbformat->import-ipynb) (306)\n",
      "Requirement already satisfied: wcwidth in c:\\users\\basil\\appdata\\roaming\\python\\python39\\site-packages (from prompt-toolkit<3.1.0,>=3.0.41->IPython->import-ipynb) (0.2.13)\n",
      "Requirement already satisfied: executing>=1.2.0 in c:\\users\\basil\\appdata\\roaming\\python\\python39\\site-packages (from stack-data->IPython->import-ipynb) (2.0.1)\n",
      "Requirement already satisfied: asttokens>=2.1.0 in c:\\users\\basil\\appdata\\roaming\\python\\python39\\site-packages (from stack-data->IPython->import-ipynb) (2.4.1)\n",
      "Requirement already satisfied: pure-eval in c:\\users\\basil\\appdata\\roaming\\python\\python39\\site-packages (from stack-data->IPython->import-ipynb) (0.2.2)\n",
      "Requirement already satisfied: six>=1.12.0 in c:\\program files (x86)\\microsoft visual studio\\shared\\python39_64\\lib\\site-packages (from asttokens>=2.1.0->stack-data->IPython->import-ipynb) (1.16.0)\n"
     ]
    }
   ],
   "source": [
    "!pip install import-ipynb"
   ]
  },
  {
   "cell_type": "code",
   "execution_count": 6,
   "id": "92a16b4c-b759-484d-ae13-9619ac3e0586",
   "metadata": {},
   "outputs": [],
   "source": [
    "import gymnasium as gym\n",
    "import numpy as np\n",
    "import matplotlib.pyplot as plt\n",
    "from collections import deque\n",
    "import random\n",
    "import import_ipynb\n",
    "from plastic_nn import plastic_nn\n",
    "from plastic_nn import input_layer\n",
    "from plastic_nn import layer"
   ]
  },
  {
   "cell_type": "code",
   "execution_count": 8,
   "id": "3e102abc-f92d-44b7-a627-9c14b276bf91",
   "metadata": {},
   "outputs": [
    {
     "name": "stdout",
     "output_type": "stream",
     "text": [
      "added succesfully\n",
      "Num of layers:  4\n",
      "# 0\n",
      "IN LAYER\n",
      "size:  2\n",
      "[0. 0.]\n",
      "\n",
      "# 1\n",
      "my size:  3\n",
      "w:  [[0.698322   0.07700537 0.8795791 ]\n",
      " [0.154886   0.56476356 0.42334328]] \n",
      "\n",
      "\n",
      "# 2\n",
      "my size:  2\n",
      "w:  [[0.54255559 0.49004278]\n",
      " [0.73233547 0.17669236]\n",
      " [0.3598505  0.93347553]] \n",
      "\n",
      "\n",
      "# 3\n",
      "my size:  2\n",
      "w:  [[0.9382529  0.44554918]\n",
      " [0.95365649 0.07226861]] \n",
      "\n",
      "\n"
     ]
    }
   ],
   "source": [
    "test = plastic_nn()\n",
    "lr = 0.1\n",
    "layers = [input_layer(2), \n",
    "          layer(lr = lr, prev_size = 2, my_size=3, activation_type=\"ReLU\"), \n",
    "          layer(lr = lr, prev_size = 3, my_size=2, activation_type=\"ReLU\"), \n",
    "          layer(lr = lr, prev_size = 2, my_size=2, activation_type='Linear')] #, activation_type=\"ReLU\")]\n",
    "test.append(layers)\n",
    "test.print_info()"
   ]
  }
 ],
 "metadata": {
  "kernelspec": {
   "display_name": "Python 3 (ipykernel)",
   "language": "python",
   "name": "python3"
  },
  "language_info": {
   "codemirror_mode": {
    "name": "ipython",
    "version": 3
   },
   "file_extension": ".py",
   "mimetype": "text/x-python",
   "name": "python",
   "nbconvert_exporter": "python",
   "pygments_lexer": "ipython3",
   "version": "3.9.13"
  }
 },
 "nbformat": 4,
 "nbformat_minor": 5
}
